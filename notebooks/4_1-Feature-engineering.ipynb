{
 "cells": [
  {
   "cell_type": "markdown",
   "metadata": {},
   "source": [
    "# Data preprocessing\n",
    "\n",
    "---\n"
   ]
  },
  {
   "cell_type": "code",
   "execution_count": 58,
   "metadata": {},
   "outputs": [],
   "source": [
    "DATA_PATH = r'..\\data\\processed\\04-final_data_v2.pkl'\n",
    "OUTPUT_DATA_PATH = r'..\\data\\processed\\05-final_data_after_Feature-E.pkl'\n",
    "\n",
    "\n",
    "list_columns = ['Key_languages', 'Databases', 'Web_frames', 'Platforms']\n",
    "\n",
    "specified_columns = ['EdLevel', 'experanse_years']"
   ]
  },
  {
   "cell_type": "markdown",
   "metadata": {},
   "source": [
    "## Importing\n"
   ]
  },
  {
   "cell_type": "code",
   "execution_count": 2,
   "metadata": {},
   "outputs": [],
   "source": [
    "import pandas as pd\n",
    "import numpy as np\n",
    "import seaborn as sns\n",
    "import matplotlib.pylab as plt\n",
    "\n",
    "import plotly\n",
    "import plotly.graph_objects as go\n",
    "import plotly.express as px\n",
    "\n",
    "\n",
    "from imblearn.over_sampling import RandomOverSampler\n",
    "from imblearn.under_sampling import RandomUnderSampler\n",
    "\n",
    "from sklearn.pipeline import Pipeline\n",
    "\n",
    "from sklearn.preprocessing import StandardScaler, MinMaxScaler, RobustScaler\n",
    "from sklearn.preprocessing import OneHotEncoder\n",
    "from sklearn.preprocessing import MultiLabelBinarizer\n",
    "from sklearn.compose import ColumnTransformer\n",
    "\n",
    "# Set the maximum number of rows and columns to display\n",
    "# pd.set_option('display.max_rows', None)\n",
    "# pd.set_option('display.max_columns', None)"
   ]
  },
  {
   "cell_type": "code",
   "execution_count": 3,
   "metadata": {},
   "outputs": [],
   "source": [
    "# Functions\n",
    "def encoding_list_col(df):\n",
    "    # Perform one-hot encoding on list columns\n",
    "\n",
    "    for column in list_columns:\n",
    "        # Create a list of unique values from all lists in the column\n",
    "        unique_values = set(\n",
    "            value for sublist in df[column] for value in sublist)\n",
    "\n",
    "        # Create binary features for each unique value\n",
    "        for value in unique_values:\n",
    "            df[f\"{column}_{value}\"] = df[column].apply(\n",
    "                lambda x: int(value in x))\n",
    "\n",
    "    # Drop the original list columns\n",
    "    df = df.drop(columns=list_columns)\n",
    "\n",
    "    # Rearrange columns to move specified columns to the end\n",
    "\n",
    "    df = pd.concat([df.drop(columns=specified_columns),\n",
    "                    df[specified_columns]], axis=1)\n",
    "\n",
    "    return df"
   ]
  },
  {
   "cell_type": "code",
   "execution_count": 4,
   "metadata": {},
   "outputs": [],
   "source": [
    "df = pd.read_pickle(DATA_PATH)"
   ]
  },
  {
   "cell_type": "markdown",
   "metadata": {},
   "source": [
    "# Feature Engineering\n"
   ]
  },
  {
   "cell_type": "code",
   "execution_count": 5,
   "metadata": {},
   "outputs": [
    {
     "data": {
      "text/html": [
       "<div>\n",
       "<style scoped>\n",
       "    .dataframe tbody tr th:only-of-type {\n",
       "        vertical-align: middle;\n",
       "    }\n",
       "\n",
       "    .dataframe tbody tr th {\n",
       "        vertical-align: top;\n",
       "    }\n",
       "\n",
       "    .dataframe thead th {\n",
       "        text-align: right;\n",
       "    }\n",
       "</style>\n",
       "<table border=\"1\" class=\"dataframe\">\n",
       "  <thead>\n",
       "    <tr style=\"text-align: right;\">\n",
       "      <th></th>\n",
       "      <th>Key_languages</th>\n",
       "      <th>Databases</th>\n",
       "      <th>Platforms</th>\n",
       "      <th>Web_frames</th>\n",
       "      <th>EdLevel</th>\n",
       "      <th>experanse_years</th>\n",
       "      <th>DevType</th>\n",
       "    </tr>\n",
       "  </thead>\n",
       "  <tbody>\n",
       "    <tr>\n",
       "      <th>0</th>\n",
       "      <td>[GDScript, Bash/Shell (all shells), Rust, Java...</td>\n",
       "      <td>[Supabase]</td>\n",
       "      <td>[Amazon Web Services (AWS), Netlify, Vercel]</td>\n",
       "      <td>[Next.js, React, Remix, Vue.js]</td>\n",
       "      <td>Bachelor's</td>\n",
       "      <td>9.0</td>\n",
       "      <td>Executive</td>\n",
       "    </tr>\n",
       "    <tr>\n",
       "      <th>1</th>\n",
       "      <td>[Go, Rust, OCaml, Haskell, Bash/Shell (all she...</td>\n",
       "      <td>[Don't have]</td>\n",
       "      <td>[Amazon Web Services (AWS), Google Cloud, Open...</td>\n",
       "      <td>[Don't have]</td>\n",
       "      <td>Bachelor's</td>\n",
       "      <td>23.0</td>\n",
       "      <td>Back-end Developer</td>\n",
       "    </tr>\n",
       "    <tr>\n",
       "      <th>2</th>\n",
       "      <td>[Ruby, JavaScript, TypeScript, SQL, PHP, HTML/...</td>\n",
       "      <td>[PostgreSQL, Redis]</td>\n",
       "      <td>[Cloudflare, Heroku]</td>\n",
       "      <td>[Node.js, React, Ruby on Rails, Vue.js, WordPr...</td>\n",
       "      <td>Bachelor's</td>\n",
       "      <td>7.0</td>\n",
       "      <td>Front-end Developer</td>\n",
       "    </tr>\n",
       "    <tr>\n",
       "      <th>3</th>\n",
       "      <td>[Rust, JavaScript, Python, HTML/CSS, TypeScript]</td>\n",
       "      <td>[BigQuery, Elasticsearch, MongoDB, PostgreSQL]</td>\n",
       "      <td>[Amazon Web Services (AWS), Firebase, Heroku, ...</td>\n",
       "      <td>[Express, Gatsby, NestJS, Next.js, Node.js, Re...</td>\n",
       "      <td>Bachelor's</td>\n",
       "      <td>4.0</td>\n",
       "      <td>Full-stack Developer</td>\n",
       "    </tr>\n",
       "    <tr>\n",
       "      <th>4</th>\n",
       "      <td>[Go, Ruby, Rust, JavaScript, TypeScript, SQL, ...</td>\n",
       "      <td>[BigQuery, Cloud Firestore, PostgreSQL, Redis]</td>\n",
       "      <td>[Amazon Web Services (AWS), Cloudflare, Google...</td>\n",
       "      <td>[Angular, Express, NestJS, Node.js]</td>\n",
       "      <td>Some College/University</td>\n",
       "      <td>21.0</td>\n",
       "      <td>Back-end Developer</td>\n",
       "    </tr>\n",
       "  </tbody>\n",
       "</table>\n",
       "</div>"
      ],
      "text/plain": [
       "                                       Key_languages  \\\n",
       "0  [GDScript, Bash/Shell (all shells), Rust, Java...   \n",
       "1  [Go, Rust, OCaml, Haskell, Bash/Shell (all she...   \n",
       "2  [Ruby, JavaScript, TypeScript, SQL, PHP, HTML/...   \n",
       "3   [Rust, JavaScript, Python, HTML/CSS, TypeScript]   \n",
       "4  [Go, Ruby, Rust, JavaScript, TypeScript, SQL, ...   \n",
       "\n",
       "                                        Databases  \\\n",
       "0                                      [Supabase]   \n",
       "1                                    [Don't have]   \n",
       "2                             [PostgreSQL, Redis]   \n",
       "3  [BigQuery, Elasticsearch, MongoDB, PostgreSQL]   \n",
       "4  [BigQuery, Cloud Firestore, PostgreSQL, Redis]   \n",
       "\n",
       "                                           Platforms  \\\n",
       "0       [Amazon Web Services (AWS), Netlify, Vercel]   \n",
       "1  [Amazon Web Services (AWS), Google Cloud, Open...   \n",
       "2                               [Cloudflare, Heroku]   \n",
       "3  [Amazon Web Services (AWS), Firebase, Heroku, ...   \n",
       "4  [Amazon Web Services (AWS), Cloudflare, Google...   \n",
       "\n",
       "                                          Web_frames                  EdLevel  \\\n",
       "0                    [Next.js, React, Remix, Vue.js]               Bachelor's   \n",
       "1                                       [Don't have]               Bachelor's   \n",
       "2  [Node.js, React, Ruby on Rails, Vue.js, WordPr...               Bachelor's   \n",
       "3  [Express, Gatsby, NestJS, Next.js, Node.js, Re...               Bachelor's   \n",
       "4                [Angular, Express, NestJS, Node.js]  Some College/University   \n",
       "\n",
       "   experanse_years               DevType  \n",
       "0              9.0             Executive  \n",
       "1             23.0    Back-end Developer  \n",
       "2              7.0   Front-end Developer  \n",
       "3              4.0  Full-stack Developer  \n",
       "4             21.0    Back-end Developer  "
      ]
     },
     "execution_count": 5,
     "metadata": {},
     "output_type": "execute_result"
    }
   ],
   "source": [
    "df.head()"
   ]
  },
  {
   "cell_type": "markdown",
   "metadata": {},
   "source": [
    "We will use clustering to form groups of skills\n"
   ]
  },
  {
   "cell_type": "code",
   "execution_count": 6,
   "metadata": {},
   "outputs": [
    {
     "name": "stderr",
     "output_type": "stream",
     "text": [
      "C:\\Users\\xobed\\AppData\\Local\\Temp\\ipykernel_23260\\2221178282.py:12: PerformanceWarning: DataFrame is highly fragmented.  This is usually the result of calling `frame.insert` many times, which has poor performance.  Consider joining all columns at once using pd.concat(axis=1) instead. To get a de-fragmented frame, use `newframe = frame.copy()`\n",
      "  df[f\"{column}_{value}\"] = df[column].apply(\n",
      "C:\\Users\\xobed\\AppData\\Local\\Temp\\ipykernel_23260\\2221178282.py:12: PerformanceWarning: DataFrame is highly fragmented.  This is usually the result of calling `frame.insert` many times, which has poor performance.  Consider joining all columns at once using pd.concat(axis=1) instead. To get a de-fragmented frame, use `newframe = frame.copy()`\n",
      "  df[f\"{column}_{value}\"] = df[column].apply(\n",
      "C:\\Users\\xobed\\AppData\\Local\\Temp\\ipykernel_23260\\2221178282.py:12: PerformanceWarning: DataFrame is highly fragmented.  This is usually the result of calling `frame.insert` many times, which has poor performance.  Consider joining all columns at once using pd.concat(axis=1) instead. To get a de-fragmented frame, use `newframe = frame.copy()`\n",
      "  df[f\"{column}_{value}\"] = df[column].apply(\n",
      "C:\\Users\\xobed\\AppData\\Local\\Temp\\ipykernel_23260\\2221178282.py:12: PerformanceWarning: DataFrame is highly fragmented.  This is usually the result of calling `frame.insert` many times, which has poor performance.  Consider joining all columns at once using pd.concat(axis=1) instead. To get a de-fragmented frame, use `newframe = frame.copy()`\n",
      "  df[f\"{column}_{value}\"] = df[column].apply(\n",
      "C:\\Users\\xobed\\AppData\\Local\\Temp\\ipykernel_23260\\2221178282.py:12: PerformanceWarning: DataFrame is highly fragmented.  This is usually the result of calling `frame.insert` many times, which has poor performance.  Consider joining all columns at once using pd.concat(axis=1) instead. To get a de-fragmented frame, use `newframe = frame.copy()`\n",
      "  df[f\"{column}_{value}\"] = df[column].apply(\n",
      "C:\\Users\\xobed\\AppData\\Local\\Temp\\ipykernel_23260\\2221178282.py:12: PerformanceWarning: DataFrame is highly fragmented.  This is usually the result of calling `frame.insert` many times, which has poor performance.  Consider joining all columns at once using pd.concat(axis=1) instead. To get a de-fragmented frame, use `newframe = frame.copy()`\n",
      "  df[f\"{column}_{value}\"] = df[column].apply(\n",
      "C:\\Users\\xobed\\AppData\\Local\\Temp\\ipykernel_23260\\2221178282.py:12: PerformanceWarning: DataFrame is highly fragmented.  This is usually the result of calling `frame.insert` many times, which has poor performance.  Consider joining all columns at once using pd.concat(axis=1) instead. To get a de-fragmented frame, use `newframe = frame.copy()`\n",
      "  df[f\"{column}_{value}\"] = df[column].apply(\n",
      "C:\\Users\\xobed\\AppData\\Local\\Temp\\ipykernel_23260\\2221178282.py:12: PerformanceWarning: DataFrame is highly fragmented.  This is usually the result of calling `frame.insert` many times, which has poor performance.  Consider joining all columns at once using pd.concat(axis=1) instead. To get a de-fragmented frame, use `newframe = frame.copy()`\n",
      "  df[f\"{column}_{value}\"] = df[column].apply(\n",
      "C:\\Users\\xobed\\AppData\\Local\\Temp\\ipykernel_23260\\2221178282.py:12: PerformanceWarning: DataFrame is highly fragmented.  This is usually the result of calling `frame.insert` many times, which has poor performance.  Consider joining all columns at once using pd.concat(axis=1) instead. To get a de-fragmented frame, use `newframe = frame.copy()`\n",
      "  df[f\"{column}_{value}\"] = df[column].apply(\n",
      "C:\\Users\\xobed\\AppData\\Local\\Temp\\ipykernel_23260\\2221178282.py:12: PerformanceWarning: DataFrame is highly fragmented.  This is usually the result of calling `frame.insert` many times, which has poor performance.  Consider joining all columns at once using pd.concat(axis=1) instead. To get a de-fragmented frame, use `newframe = frame.copy()`\n",
      "  df[f\"{column}_{value}\"] = df[column].apply(\n",
      "C:\\Users\\xobed\\AppData\\Local\\Temp\\ipykernel_23260\\2221178282.py:12: PerformanceWarning: DataFrame is highly fragmented.  This is usually the result of calling `frame.insert` many times, which has poor performance.  Consider joining all columns at once using pd.concat(axis=1) instead. To get a de-fragmented frame, use `newframe = frame.copy()`\n",
      "  df[f\"{column}_{value}\"] = df[column].apply(\n",
      "C:\\Users\\xobed\\AppData\\Local\\Temp\\ipykernel_23260\\2221178282.py:12: PerformanceWarning: DataFrame is highly fragmented.  This is usually the result of calling `frame.insert` many times, which has poor performance.  Consider joining all columns at once using pd.concat(axis=1) instead. To get a de-fragmented frame, use `newframe = frame.copy()`\n",
      "  df[f\"{column}_{value}\"] = df[column].apply(\n",
      "C:\\Users\\xobed\\AppData\\Local\\Temp\\ipykernel_23260\\2221178282.py:12: PerformanceWarning: DataFrame is highly fragmented.  This is usually the result of calling `frame.insert` many times, which has poor performance.  Consider joining all columns at once using pd.concat(axis=1) instead. To get a de-fragmented frame, use `newframe = frame.copy()`\n",
      "  df[f\"{column}_{value}\"] = df[column].apply(\n",
      "C:\\Users\\xobed\\AppData\\Local\\Temp\\ipykernel_23260\\2221178282.py:12: PerformanceWarning: DataFrame is highly fragmented.  This is usually the result of calling `frame.insert` many times, which has poor performance.  Consider joining all columns at once using pd.concat(axis=1) instead. To get a de-fragmented frame, use `newframe = frame.copy()`\n",
      "  df[f\"{column}_{value}\"] = df[column].apply(\n",
      "C:\\Users\\xobed\\AppData\\Local\\Temp\\ipykernel_23260\\2221178282.py:12: PerformanceWarning: DataFrame is highly fragmented.  This is usually the result of calling `frame.insert` many times, which has poor performance.  Consider joining all columns at once using pd.concat(axis=1) instead. To get a de-fragmented frame, use `newframe = frame.copy()`\n",
      "  df[f\"{column}_{value}\"] = df[column].apply(\n",
      "C:\\Users\\xobed\\AppData\\Local\\Temp\\ipykernel_23260\\2221178282.py:12: PerformanceWarning: DataFrame is highly fragmented.  This is usually the result of calling `frame.insert` many times, which has poor performance.  Consider joining all columns at once using pd.concat(axis=1) instead. To get a de-fragmented frame, use `newframe = frame.copy()`\n",
      "  df[f\"{column}_{value}\"] = df[column].apply(\n",
      "C:\\Users\\xobed\\AppData\\Local\\Temp\\ipykernel_23260\\2221178282.py:12: PerformanceWarning: DataFrame is highly fragmented.  This is usually the result of calling `frame.insert` many times, which has poor performance.  Consider joining all columns at once using pd.concat(axis=1) instead. To get a de-fragmented frame, use `newframe = frame.copy()`\n",
      "  df[f\"{column}_{value}\"] = df[column].apply(\n",
      "C:\\Users\\xobed\\AppData\\Local\\Temp\\ipykernel_23260\\2221178282.py:12: PerformanceWarning: DataFrame is highly fragmented.  This is usually the result of calling `frame.insert` many times, which has poor performance.  Consider joining all columns at once using pd.concat(axis=1) instead. To get a de-fragmented frame, use `newframe = frame.copy()`\n",
      "  df[f\"{column}_{value}\"] = df[column].apply(\n",
      "C:\\Users\\xobed\\AppData\\Local\\Temp\\ipykernel_23260\\2221178282.py:12: PerformanceWarning: DataFrame is highly fragmented.  This is usually the result of calling `frame.insert` many times, which has poor performance.  Consider joining all columns at once using pd.concat(axis=1) instead. To get a de-fragmented frame, use `newframe = frame.copy()`\n",
      "  df[f\"{column}_{value}\"] = df[column].apply(\n",
      "C:\\Users\\xobed\\AppData\\Local\\Temp\\ipykernel_23260\\2221178282.py:12: PerformanceWarning: DataFrame is highly fragmented.  This is usually the result of calling `frame.insert` many times, which has poor performance.  Consider joining all columns at once using pd.concat(axis=1) instead. To get a de-fragmented frame, use `newframe = frame.copy()`\n",
      "  df[f\"{column}_{value}\"] = df[column].apply(\n",
      "C:\\Users\\xobed\\AppData\\Local\\Temp\\ipykernel_23260\\2221178282.py:12: PerformanceWarning: DataFrame is highly fragmented.  This is usually the result of calling `frame.insert` many times, which has poor performance.  Consider joining all columns at once using pd.concat(axis=1) instead. To get a de-fragmented frame, use `newframe = frame.copy()`\n",
      "  df[f\"{column}_{value}\"] = df[column].apply(\n",
      "C:\\Users\\xobed\\AppData\\Local\\Temp\\ipykernel_23260\\2221178282.py:12: PerformanceWarning: DataFrame is highly fragmented.  This is usually the result of calling `frame.insert` many times, which has poor performance.  Consider joining all columns at once using pd.concat(axis=1) instead. To get a de-fragmented frame, use `newframe = frame.copy()`\n",
      "  df[f\"{column}_{value}\"] = df[column].apply(\n",
      "C:\\Users\\xobed\\AppData\\Local\\Temp\\ipykernel_23260\\2221178282.py:12: PerformanceWarning: DataFrame is highly fragmented.  This is usually the result of calling `frame.insert` many times, which has poor performance.  Consider joining all columns at once using pd.concat(axis=1) instead. To get a de-fragmented frame, use `newframe = frame.copy()`\n",
      "  df[f\"{column}_{value}\"] = df[column].apply(\n",
      "C:\\Users\\xobed\\AppData\\Local\\Temp\\ipykernel_23260\\2221178282.py:12: PerformanceWarning: DataFrame is highly fragmented.  This is usually the result of calling `frame.insert` many times, which has poor performance.  Consider joining all columns at once using pd.concat(axis=1) instead. To get a de-fragmented frame, use `newframe = frame.copy()`\n",
      "  df[f\"{column}_{value}\"] = df[column].apply(\n",
      "C:\\Users\\xobed\\AppData\\Local\\Temp\\ipykernel_23260\\2221178282.py:12: PerformanceWarning: DataFrame is highly fragmented.  This is usually the result of calling `frame.insert` many times, which has poor performance.  Consider joining all columns at once using pd.concat(axis=1) instead. To get a de-fragmented frame, use `newframe = frame.copy()`\n",
      "  df[f\"{column}_{value}\"] = df[column].apply(\n",
      "C:\\Users\\xobed\\AppData\\Local\\Temp\\ipykernel_23260\\2221178282.py:12: PerformanceWarning: DataFrame is highly fragmented.  This is usually the result of calling `frame.insert` many times, which has poor performance.  Consider joining all columns at once using pd.concat(axis=1) instead. To get a de-fragmented frame, use `newframe = frame.copy()`\n",
      "  df[f\"{column}_{value}\"] = df[column].apply(\n",
      "C:\\Users\\xobed\\AppData\\Local\\Temp\\ipykernel_23260\\2221178282.py:12: PerformanceWarning: DataFrame is highly fragmented.  This is usually the result of calling `frame.insert` many times, which has poor performance.  Consider joining all columns at once using pd.concat(axis=1) instead. To get a de-fragmented frame, use `newframe = frame.copy()`\n",
      "  df[f\"{column}_{value}\"] = df[column].apply(\n",
      "C:\\Users\\xobed\\AppData\\Local\\Temp\\ipykernel_23260\\2221178282.py:12: PerformanceWarning: DataFrame is highly fragmented.  This is usually the result of calling `frame.insert` many times, which has poor performance.  Consider joining all columns at once using pd.concat(axis=1) instead. To get a de-fragmented frame, use `newframe = frame.copy()`\n",
      "  df[f\"{column}_{value}\"] = df[column].apply(\n",
      "C:\\Users\\xobed\\AppData\\Local\\Temp\\ipykernel_23260\\2221178282.py:12: PerformanceWarning: DataFrame is highly fragmented.  This is usually the result of calling `frame.insert` many times, which has poor performance.  Consider joining all columns at once using pd.concat(axis=1) instead. To get a de-fragmented frame, use `newframe = frame.copy()`\n",
      "  df[f\"{column}_{value}\"] = df[column].apply(\n",
      "C:\\Users\\xobed\\AppData\\Local\\Temp\\ipykernel_23260\\2221178282.py:12: PerformanceWarning: DataFrame is highly fragmented.  This is usually the result of calling `frame.insert` many times, which has poor performance.  Consider joining all columns at once using pd.concat(axis=1) instead. To get a de-fragmented frame, use `newframe = frame.copy()`\n",
      "  df[f\"{column}_{value}\"] = df[column].apply(\n",
      "C:\\Users\\xobed\\AppData\\Local\\Temp\\ipykernel_23260\\2221178282.py:12: PerformanceWarning: DataFrame is highly fragmented.  This is usually the result of calling `frame.insert` many times, which has poor performance.  Consider joining all columns at once using pd.concat(axis=1) instead. To get a de-fragmented frame, use `newframe = frame.copy()`\n",
      "  df[f\"{column}_{value}\"] = df[column].apply(\n",
      "C:\\Users\\xobed\\AppData\\Local\\Temp\\ipykernel_23260\\2221178282.py:12: PerformanceWarning: DataFrame is highly fragmented.  This is usually the result of calling `frame.insert` many times, which has poor performance.  Consider joining all columns at once using pd.concat(axis=1) instead. To get a de-fragmented frame, use `newframe = frame.copy()`\n",
      "  df[f\"{column}_{value}\"] = df[column].apply(\n",
      "C:\\Users\\xobed\\AppData\\Local\\Temp\\ipykernel_23260\\2221178282.py:12: PerformanceWarning: DataFrame is highly fragmented.  This is usually the result of calling `frame.insert` many times, which has poor performance.  Consider joining all columns at once using pd.concat(axis=1) instead. To get a de-fragmented frame, use `newframe = frame.copy()`\n",
      "  df[f\"{column}_{value}\"] = df[column].apply(\n",
      "C:\\Users\\xobed\\AppData\\Local\\Temp\\ipykernel_23260\\2221178282.py:12: PerformanceWarning: DataFrame is highly fragmented.  This is usually the result of calling `frame.insert` many times, which has poor performance.  Consider joining all columns at once using pd.concat(axis=1) instead. To get a de-fragmented frame, use `newframe = frame.copy()`\n",
      "  df[f\"{column}_{value}\"] = df[column].apply(\n",
      "C:\\Users\\xobed\\AppData\\Local\\Temp\\ipykernel_23260\\2221178282.py:12: PerformanceWarning: DataFrame is highly fragmented.  This is usually the result of calling `frame.insert` many times, which has poor performance.  Consider joining all columns at once using pd.concat(axis=1) instead. To get a de-fragmented frame, use `newframe = frame.copy()`\n",
      "  df[f\"{column}_{value}\"] = df[column].apply(\n",
      "C:\\Users\\xobed\\AppData\\Local\\Temp\\ipykernel_23260\\2221178282.py:12: PerformanceWarning: DataFrame is highly fragmented.  This is usually the result of calling `frame.insert` many times, which has poor performance.  Consider joining all columns at once using pd.concat(axis=1) instead. To get a de-fragmented frame, use `newframe = frame.copy()`\n",
      "  df[f\"{column}_{value}\"] = df[column].apply(\n",
      "C:\\Users\\xobed\\AppData\\Local\\Temp\\ipykernel_23260\\2221178282.py:12: PerformanceWarning: DataFrame is highly fragmented.  This is usually the result of calling `frame.insert` many times, which has poor performance.  Consider joining all columns at once using pd.concat(axis=1) instead. To get a de-fragmented frame, use `newframe = frame.copy()`\n",
      "  df[f\"{column}_{value}\"] = df[column].apply(\n",
      "C:\\Users\\xobed\\AppData\\Local\\Temp\\ipykernel_23260\\2221178282.py:12: PerformanceWarning: DataFrame is highly fragmented.  This is usually the result of calling `frame.insert` many times, which has poor performance.  Consider joining all columns at once using pd.concat(axis=1) instead. To get a de-fragmented frame, use `newframe = frame.copy()`\n",
      "  df[f\"{column}_{value}\"] = df[column].apply(\n",
      "C:\\Users\\xobed\\AppData\\Local\\Temp\\ipykernel_23260\\2221178282.py:12: PerformanceWarning: DataFrame is highly fragmented.  This is usually the result of calling `frame.insert` many times, which has poor performance.  Consider joining all columns at once using pd.concat(axis=1) instead. To get a de-fragmented frame, use `newframe = frame.copy()`\n",
      "  df[f\"{column}_{value}\"] = df[column].apply(\n",
      "C:\\Users\\xobed\\AppData\\Local\\Temp\\ipykernel_23260\\2221178282.py:12: PerformanceWarning: DataFrame is highly fragmented.  This is usually the result of calling `frame.insert` many times, which has poor performance.  Consider joining all columns at once using pd.concat(axis=1) instead. To get a de-fragmented frame, use `newframe = frame.copy()`\n",
      "  df[f\"{column}_{value}\"] = df[column].apply(\n",
      "C:\\Users\\xobed\\AppData\\Local\\Temp\\ipykernel_23260\\2221178282.py:12: PerformanceWarning: DataFrame is highly fragmented.  This is usually the result of calling `frame.insert` many times, which has poor performance.  Consider joining all columns at once using pd.concat(axis=1) instead. To get a de-fragmented frame, use `newframe = frame.copy()`\n",
      "  df[f\"{column}_{value}\"] = df[column].apply(\n",
      "C:\\Users\\xobed\\AppData\\Local\\Temp\\ipykernel_23260\\2221178282.py:12: PerformanceWarning: DataFrame is highly fragmented.  This is usually the result of calling `frame.insert` many times, which has poor performance.  Consider joining all columns at once using pd.concat(axis=1) instead. To get a de-fragmented frame, use `newframe = frame.copy()`\n",
      "  df[f\"{column}_{value}\"] = df[column].apply(\n",
      "C:\\Users\\xobed\\AppData\\Local\\Temp\\ipykernel_23260\\2221178282.py:12: PerformanceWarning: DataFrame is highly fragmented.  This is usually the result of calling `frame.insert` many times, which has poor performance.  Consider joining all columns at once using pd.concat(axis=1) instead. To get a de-fragmented frame, use `newframe = frame.copy()`\n",
      "  df[f\"{column}_{value}\"] = df[column].apply(\n",
      "C:\\Users\\xobed\\AppData\\Local\\Temp\\ipykernel_23260\\2221178282.py:12: PerformanceWarning: DataFrame is highly fragmented.  This is usually the result of calling `frame.insert` many times, which has poor performance.  Consider joining all columns at once using pd.concat(axis=1) instead. To get a de-fragmented frame, use `newframe = frame.copy()`\n",
      "  df[f\"{column}_{value}\"] = df[column].apply(\n",
      "C:\\Users\\xobed\\AppData\\Local\\Temp\\ipykernel_23260\\2221178282.py:12: PerformanceWarning: DataFrame is highly fragmented.  This is usually the result of calling `frame.insert` many times, which has poor performance.  Consider joining all columns at once using pd.concat(axis=1) instead. To get a de-fragmented frame, use `newframe = frame.copy()`\n",
      "  df[f\"{column}_{value}\"] = df[column].apply(\n",
      "C:\\Users\\xobed\\AppData\\Local\\Temp\\ipykernel_23260\\2221178282.py:12: PerformanceWarning: DataFrame is highly fragmented.  This is usually the result of calling `frame.insert` many times, which has poor performance.  Consider joining all columns at once using pd.concat(axis=1) instead. To get a de-fragmented frame, use `newframe = frame.copy()`\n",
      "  df[f\"{column}_{value}\"] = df[column].apply(\n"
     ]
    }
   ],
   "source": [
    "df = encoding_list_col(df)"
   ]
  },
  {
   "cell_type": "code",
   "execution_count": 7,
   "metadata": {},
   "outputs": [
    {
     "data": {
      "text/html": [
       "<div>\n",
       "<style scoped>\n",
       "    .dataframe tbody tr th:only-of-type {\n",
       "        vertical-align: middle;\n",
       "    }\n",
       "\n",
       "    .dataframe tbody tr th {\n",
       "        vertical-align: top;\n",
       "    }\n",
       "\n",
       "    .dataframe thead th {\n",
       "        text-align: right;\n",
       "    }\n",
       "</style>\n",
       "<table border=\"1\" class=\"dataframe\">\n",
       "  <thead>\n",
       "    <tr style=\"text-align: right;\">\n",
       "      <th></th>\n",
       "      <th>DevType</th>\n",
       "      <th>Key_languages_Perl</th>\n",
       "      <th>Key_languages_Fortran</th>\n",
       "      <th>Key_languages_Prolog</th>\n",
       "      <th>Key_languages_Zig</th>\n",
       "      <th>Key_languages_VBA</th>\n",
       "      <th>Key_languages_Crystal</th>\n",
       "      <th>Key_languages_OCaml</th>\n",
       "      <th>Key_languages_Don't have</th>\n",
       "      <th>Key_languages_JavaScript</th>\n",
       "      <th>...</th>\n",
       "      <th>Platforms_Firebase</th>\n",
       "      <th>Platforms_Digital Ocean</th>\n",
       "      <th>Platforms_Vercel</th>\n",
       "      <th>Platforms_OpenStack</th>\n",
       "      <th>Platforms_Hetzner</th>\n",
       "      <th>Platforms_Fly.io</th>\n",
       "      <th>Platforms_Oracle Cloud Infrastructure (OCI)</th>\n",
       "      <th>Platforms_Colocation</th>\n",
       "      <th>EdLevel</th>\n",
       "      <th>experanse_years</th>\n",
       "    </tr>\n",
       "  </thead>\n",
       "  <tbody>\n",
       "    <tr>\n",
       "      <th>0</th>\n",
       "      <td>Executive</td>\n",
       "      <td>0</td>\n",
       "      <td>0</td>\n",
       "      <td>0</td>\n",
       "      <td>0</td>\n",
       "      <td>0</td>\n",
       "      <td>0</td>\n",
       "      <td>0</td>\n",
       "      <td>0</td>\n",
       "      <td>1</td>\n",
       "      <td>...</td>\n",
       "      <td>0</td>\n",
       "      <td>0</td>\n",
       "      <td>1</td>\n",
       "      <td>0</td>\n",
       "      <td>0</td>\n",
       "      <td>0</td>\n",
       "      <td>0</td>\n",
       "      <td>0</td>\n",
       "      <td>Bachelor's</td>\n",
       "      <td>9.0</td>\n",
       "    </tr>\n",
       "    <tr>\n",
       "      <th>1</th>\n",
       "      <td>Back-end Developer</td>\n",
       "      <td>0</td>\n",
       "      <td>0</td>\n",
       "      <td>0</td>\n",
       "      <td>0</td>\n",
       "      <td>0</td>\n",
       "      <td>0</td>\n",
       "      <td>1</td>\n",
       "      <td>0</td>\n",
       "      <td>0</td>\n",
       "      <td>...</td>\n",
       "      <td>0</td>\n",
       "      <td>0</td>\n",
       "      <td>0</td>\n",
       "      <td>1</td>\n",
       "      <td>0</td>\n",
       "      <td>0</td>\n",
       "      <td>0</td>\n",
       "      <td>0</td>\n",
       "      <td>Bachelor's</td>\n",
       "      <td>23.0</td>\n",
       "    </tr>\n",
       "    <tr>\n",
       "      <th>2</th>\n",
       "      <td>Front-end Developer</td>\n",
       "      <td>0</td>\n",
       "      <td>0</td>\n",
       "      <td>0</td>\n",
       "      <td>0</td>\n",
       "      <td>0</td>\n",
       "      <td>0</td>\n",
       "      <td>0</td>\n",
       "      <td>0</td>\n",
       "      <td>1</td>\n",
       "      <td>...</td>\n",
       "      <td>0</td>\n",
       "      <td>0</td>\n",
       "      <td>0</td>\n",
       "      <td>0</td>\n",
       "      <td>0</td>\n",
       "      <td>0</td>\n",
       "      <td>0</td>\n",
       "      <td>0</td>\n",
       "      <td>Bachelor's</td>\n",
       "      <td>7.0</td>\n",
       "    </tr>\n",
       "    <tr>\n",
       "      <th>3</th>\n",
       "      <td>Full-stack Developer</td>\n",
       "      <td>0</td>\n",
       "      <td>0</td>\n",
       "      <td>0</td>\n",
       "      <td>0</td>\n",
       "      <td>0</td>\n",
       "      <td>0</td>\n",
       "      <td>0</td>\n",
       "      <td>0</td>\n",
       "      <td>1</td>\n",
       "      <td>...</td>\n",
       "      <td>1</td>\n",
       "      <td>0</td>\n",
       "      <td>1</td>\n",
       "      <td>0</td>\n",
       "      <td>0</td>\n",
       "      <td>0</td>\n",
       "      <td>0</td>\n",
       "      <td>0</td>\n",
       "      <td>Bachelor's</td>\n",
       "      <td>4.0</td>\n",
       "    </tr>\n",
       "    <tr>\n",
       "      <th>4</th>\n",
       "      <td>Back-end Developer</td>\n",
       "      <td>0</td>\n",
       "      <td>0</td>\n",
       "      <td>0</td>\n",
       "      <td>0</td>\n",
       "      <td>0</td>\n",
       "      <td>0</td>\n",
       "      <td>0</td>\n",
       "      <td>0</td>\n",
       "      <td>1</td>\n",
       "      <td>...</td>\n",
       "      <td>0</td>\n",
       "      <td>0</td>\n",
       "      <td>0</td>\n",
       "      <td>0</td>\n",
       "      <td>0</td>\n",
       "      <td>0</td>\n",
       "      <td>0</td>\n",
       "      <td>0</td>\n",
       "      <td>Some College/University</td>\n",
       "      <td>21.0</td>\n",
       "    </tr>\n",
       "  </tbody>\n",
       "</table>\n",
       "<p>5 rows × 147 columns</p>\n",
       "</div>"
      ],
      "text/plain": [
       "                DevType  Key_languages_Perl  Key_languages_Fortran  \\\n",
       "0             Executive                   0                      0   \n",
       "1    Back-end Developer                   0                      0   \n",
       "2   Front-end Developer                   0                      0   \n",
       "3  Full-stack Developer                   0                      0   \n",
       "4    Back-end Developer                   0                      0   \n",
       "\n",
       "   Key_languages_Prolog  Key_languages_Zig  Key_languages_VBA  \\\n",
       "0                     0                  0                  0   \n",
       "1                     0                  0                  0   \n",
       "2                     0                  0                  0   \n",
       "3                     0                  0                  0   \n",
       "4                     0                  0                  0   \n",
       "\n",
       "   Key_languages_Crystal  Key_languages_OCaml  Key_languages_Don't have  \\\n",
       "0                      0                    0                         0   \n",
       "1                      0                    1                         0   \n",
       "2                      0                    0                         0   \n",
       "3                      0                    0                         0   \n",
       "4                      0                    0                         0   \n",
       "\n",
       "   Key_languages_JavaScript  ...  Platforms_Firebase  Platforms_Digital Ocean  \\\n",
       "0                         1  ...                   0                        0   \n",
       "1                         0  ...                   0                        0   \n",
       "2                         1  ...                   0                        0   \n",
       "3                         1  ...                   1                        0   \n",
       "4                         1  ...                   0                        0   \n",
       "\n",
       "   Platforms_Vercel  Platforms_OpenStack  Platforms_Hetzner  Platforms_Fly.io  \\\n",
       "0                 1                    0                  0                 0   \n",
       "1                 0                    1                  0                 0   \n",
       "2                 0                    0                  0                 0   \n",
       "3                 1                    0                  0                 0   \n",
       "4                 0                    0                  0                 0   \n",
       "\n",
       "   Platforms_Oracle Cloud Infrastructure (OCI)  Platforms_Colocation  \\\n",
       "0                                            0                     0   \n",
       "1                                            0                     0   \n",
       "2                                            0                     0   \n",
       "3                                            0                     0   \n",
       "4                                            0                     0   \n",
       "\n",
       "                   EdLevel  experanse_years  \n",
       "0               Bachelor's              9.0  \n",
       "1               Bachelor's             23.0  \n",
       "2               Bachelor's              7.0  \n",
       "3               Bachelor's              4.0  \n",
       "4  Some College/University             21.0  \n",
       "\n",
       "[5 rows x 147 columns]"
      ]
     },
     "execution_count": 7,
     "metadata": {},
     "output_type": "execute_result"
    }
   ],
   "source": [
    "df.head()"
   ]
  },
  {
   "cell_type": "code",
   "execution_count": 8,
   "metadata": {},
   "outputs": [],
   "source": [
    "skills_df = df.drop(['DevType', 'EdLevel', 'experanse_years'], axis=1)"
   ]
  },
  {
   "cell_type": "code",
   "execution_count": 9,
   "metadata": {},
   "outputs": [
    {
     "data": {
      "text/html": [
       "<div>\n",
       "<style scoped>\n",
       "    .dataframe tbody tr th:only-of-type {\n",
       "        vertical-align: middle;\n",
       "    }\n",
       "\n",
       "    .dataframe tbody tr th {\n",
       "        vertical-align: top;\n",
       "    }\n",
       "\n",
       "    .dataframe thead th {\n",
       "        text-align: right;\n",
       "    }\n",
       "</style>\n",
       "<table border=\"1\" class=\"dataframe\">\n",
       "  <thead>\n",
       "    <tr style=\"text-align: right;\">\n",
       "      <th></th>\n",
       "      <th>Key_languages_Perl</th>\n",
       "      <th>Key_languages_Fortran</th>\n",
       "      <th>Key_languages_Prolog</th>\n",
       "      <th>Key_languages_Zig</th>\n",
       "      <th>Key_languages_VBA</th>\n",
       "      <th>Key_languages_Crystal</th>\n",
       "      <th>Key_languages_OCaml</th>\n",
       "      <th>Key_languages_Don't have</th>\n",
       "      <th>Key_languages_JavaScript</th>\n",
       "      <th>Key_languages_Lua</th>\n",
       "      <th>...</th>\n",
       "      <th>Platforms_Heroku</th>\n",
       "      <th>Platforms_Cloudflare</th>\n",
       "      <th>Platforms_Firebase</th>\n",
       "      <th>Platforms_Digital Ocean</th>\n",
       "      <th>Platforms_Vercel</th>\n",
       "      <th>Platforms_OpenStack</th>\n",
       "      <th>Platforms_Hetzner</th>\n",
       "      <th>Platforms_Fly.io</th>\n",
       "      <th>Platforms_Oracle Cloud Infrastructure (OCI)</th>\n",
       "      <th>Platforms_Colocation</th>\n",
       "    </tr>\n",
       "  </thead>\n",
       "  <tbody>\n",
       "    <tr>\n",
       "      <th>0</th>\n",
       "      <td>0</td>\n",
       "      <td>0</td>\n",
       "      <td>0</td>\n",
       "      <td>0</td>\n",
       "      <td>0</td>\n",
       "      <td>0</td>\n",
       "      <td>0</td>\n",
       "      <td>0</td>\n",
       "      <td>1</td>\n",
       "      <td>0</td>\n",
       "      <td>...</td>\n",
       "      <td>0</td>\n",
       "      <td>0</td>\n",
       "      <td>0</td>\n",
       "      <td>0</td>\n",
       "      <td>1</td>\n",
       "      <td>0</td>\n",
       "      <td>0</td>\n",
       "      <td>0</td>\n",
       "      <td>0</td>\n",
       "      <td>0</td>\n",
       "    </tr>\n",
       "    <tr>\n",
       "      <th>1</th>\n",
       "      <td>0</td>\n",
       "      <td>0</td>\n",
       "      <td>0</td>\n",
       "      <td>0</td>\n",
       "      <td>0</td>\n",
       "      <td>0</td>\n",
       "      <td>1</td>\n",
       "      <td>0</td>\n",
       "      <td>0</td>\n",
       "      <td>0</td>\n",
       "      <td>...</td>\n",
       "      <td>0</td>\n",
       "      <td>0</td>\n",
       "      <td>0</td>\n",
       "      <td>0</td>\n",
       "      <td>0</td>\n",
       "      <td>1</td>\n",
       "      <td>0</td>\n",
       "      <td>0</td>\n",
       "      <td>0</td>\n",
       "      <td>0</td>\n",
       "    </tr>\n",
       "    <tr>\n",
       "      <th>2</th>\n",
       "      <td>0</td>\n",
       "      <td>0</td>\n",
       "      <td>0</td>\n",
       "      <td>0</td>\n",
       "      <td>0</td>\n",
       "      <td>0</td>\n",
       "      <td>0</td>\n",
       "      <td>0</td>\n",
       "      <td>1</td>\n",
       "      <td>0</td>\n",
       "      <td>...</td>\n",
       "      <td>1</td>\n",
       "      <td>1</td>\n",
       "      <td>0</td>\n",
       "      <td>0</td>\n",
       "      <td>0</td>\n",
       "      <td>0</td>\n",
       "      <td>0</td>\n",
       "      <td>0</td>\n",
       "      <td>0</td>\n",
       "      <td>0</td>\n",
       "    </tr>\n",
       "    <tr>\n",
       "      <th>3</th>\n",
       "      <td>0</td>\n",
       "      <td>0</td>\n",
       "      <td>0</td>\n",
       "      <td>0</td>\n",
       "      <td>0</td>\n",
       "      <td>0</td>\n",
       "      <td>0</td>\n",
       "      <td>0</td>\n",
       "      <td>1</td>\n",
       "      <td>0</td>\n",
       "      <td>...</td>\n",
       "      <td>1</td>\n",
       "      <td>0</td>\n",
       "      <td>1</td>\n",
       "      <td>0</td>\n",
       "      <td>1</td>\n",
       "      <td>0</td>\n",
       "      <td>0</td>\n",
       "      <td>0</td>\n",
       "      <td>0</td>\n",
       "      <td>0</td>\n",
       "    </tr>\n",
       "    <tr>\n",
       "      <th>4</th>\n",
       "      <td>0</td>\n",
       "      <td>0</td>\n",
       "      <td>0</td>\n",
       "      <td>0</td>\n",
       "      <td>0</td>\n",
       "      <td>0</td>\n",
       "      <td>0</td>\n",
       "      <td>0</td>\n",
       "      <td>1</td>\n",
       "      <td>0</td>\n",
       "      <td>...</td>\n",
       "      <td>0</td>\n",
       "      <td>1</td>\n",
       "      <td>0</td>\n",
       "      <td>0</td>\n",
       "      <td>0</td>\n",
       "      <td>0</td>\n",
       "      <td>0</td>\n",
       "      <td>0</td>\n",
       "      <td>0</td>\n",
       "      <td>0</td>\n",
       "    </tr>\n",
       "    <tr>\n",
       "      <th>...</th>\n",
       "      <td>...</td>\n",
       "      <td>...</td>\n",
       "      <td>...</td>\n",
       "      <td>...</td>\n",
       "      <td>...</td>\n",
       "      <td>...</td>\n",
       "      <td>...</td>\n",
       "      <td>...</td>\n",
       "      <td>...</td>\n",
       "      <td>...</td>\n",
       "      <td>...</td>\n",
       "      <td>...</td>\n",
       "      <td>...</td>\n",
       "      <td>...</td>\n",
       "      <td>...</td>\n",
       "      <td>...</td>\n",
       "      <td>...</td>\n",
       "      <td>...</td>\n",
       "      <td>...</td>\n",
       "      <td>...</td>\n",
       "      <td>...</td>\n",
       "    </tr>\n",
       "    <tr>\n",
       "      <th>67116</th>\n",
       "      <td>0</td>\n",
       "      <td>0</td>\n",
       "      <td>0</td>\n",
       "      <td>0</td>\n",
       "      <td>0</td>\n",
       "      <td>0</td>\n",
       "      <td>0</td>\n",
       "      <td>0</td>\n",
       "      <td>1</td>\n",
       "      <td>0</td>\n",
       "      <td>...</td>\n",
       "      <td>0</td>\n",
       "      <td>0</td>\n",
       "      <td>0</td>\n",
       "      <td>0</td>\n",
       "      <td>0</td>\n",
       "      <td>0</td>\n",
       "      <td>0</td>\n",
       "      <td>0</td>\n",
       "      <td>0</td>\n",
       "      <td>0</td>\n",
       "    </tr>\n",
       "    <tr>\n",
       "      <th>67117</th>\n",
       "      <td>0</td>\n",
       "      <td>0</td>\n",
       "      <td>0</td>\n",
       "      <td>0</td>\n",
       "      <td>0</td>\n",
       "      <td>0</td>\n",
       "      <td>0</td>\n",
       "      <td>0</td>\n",
       "      <td>1</td>\n",
       "      <td>0</td>\n",
       "      <td>...</td>\n",
       "      <td>0</td>\n",
       "      <td>0</td>\n",
       "      <td>0</td>\n",
       "      <td>1</td>\n",
       "      <td>0</td>\n",
       "      <td>0</td>\n",
       "      <td>0</td>\n",
       "      <td>0</td>\n",
       "      <td>0</td>\n",
       "      <td>0</td>\n",
       "    </tr>\n",
       "    <tr>\n",
       "      <th>67118</th>\n",
       "      <td>0</td>\n",
       "      <td>0</td>\n",
       "      <td>0</td>\n",
       "      <td>0</td>\n",
       "      <td>0</td>\n",
       "      <td>0</td>\n",
       "      <td>0</td>\n",
       "      <td>0</td>\n",
       "      <td>1</td>\n",
       "      <td>0</td>\n",
       "      <td>...</td>\n",
       "      <td>0</td>\n",
       "      <td>0</td>\n",
       "      <td>0</td>\n",
       "      <td>0</td>\n",
       "      <td>0</td>\n",
       "      <td>0</td>\n",
       "      <td>0</td>\n",
       "      <td>0</td>\n",
       "      <td>0</td>\n",
       "      <td>0</td>\n",
       "    </tr>\n",
       "    <tr>\n",
       "      <th>67119</th>\n",
       "      <td>0</td>\n",
       "      <td>0</td>\n",
       "      <td>0</td>\n",
       "      <td>0</td>\n",
       "      <td>0</td>\n",
       "      <td>0</td>\n",
       "      <td>0</td>\n",
       "      <td>0</td>\n",
       "      <td>1</td>\n",
       "      <td>0</td>\n",
       "      <td>...</td>\n",
       "      <td>1</td>\n",
       "      <td>0</td>\n",
       "      <td>1</td>\n",
       "      <td>1</td>\n",
       "      <td>1</td>\n",
       "      <td>0</td>\n",
       "      <td>0</td>\n",
       "      <td>0</td>\n",
       "      <td>0</td>\n",
       "      <td>0</td>\n",
       "    </tr>\n",
       "    <tr>\n",
       "      <th>67120</th>\n",
       "      <td>0</td>\n",
       "      <td>0</td>\n",
       "      <td>0</td>\n",
       "      <td>0</td>\n",
       "      <td>0</td>\n",
       "      <td>0</td>\n",
       "      <td>0</td>\n",
       "      <td>0</td>\n",
       "      <td>1</td>\n",
       "      <td>0</td>\n",
       "      <td>...</td>\n",
       "      <td>0</td>\n",
       "      <td>0</td>\n",
       "      <td>0</td>\n",
       "      <td>0</td>\n",
       "      <td>0</td>\n",
       "      <td>0</td>\n",
       "      <td>1</td>\n",
       "      <td>0</td>\n",
       "      <td>0</td>\n",
       "      <td>0</td>\n",
       "    </tr>\n",
       "  </tbody>\n",
       "</table>\n",
       "<p>64478 rows × 144 columns</p>\n",
       "</div>"
      ],
      "text/plain": [
       "       Key_languages_Perl  Key_languages_Fortran  Key_languages_Prolog  \\\n",
       "0                       0                      0                     0   \n",
       "1                       0                      0                     0   \n",
       "2                       0                      0                     0   \n",
       "3                       0                      0                     0   \n",
       "4                       0                      0                     0   \n",
       "...                   ...                    ...                   ...   \n",
       "67116                   0                      0                     0   \n",
       "67117                   0                      0                     0   \n",
       "67118                   0                      0                     0   \n",
       "67119                   0                      0                     0   \n",
       "67120                   0                      0                     0   \n",
       "\n",
       "       Key_languages_Zig  Key_languages_VBA  Key_languages_Crystal  \\\n",
       "0                      0                  0                      0   \n",
       "1                      0                  0                      0   \n",
       "2                      0                  0                      0   \n",
       "3                      0                  0                      0   \n",
       "4                      0                  0                      0   \n",
       "...                  ...                ...                    ...   \n",
       "67116                  0                  0                      0   \n",
       "67117                  0                  0                      0   \n",
       "67118                  0                  0                      0   \n",
       "67119                  0                  0                      0   \n",
       "67120                  0                  0                      0   \n",
       "\n",
       "       Key_languages_OCaml  Key_languages_Don't have  \\\n",
       "0                        0                         0   \n",
       "1                        1                         0   \n",
       "2                        0                         0   \n",
       "3                        0                         0   \n",
       "4                        0                         0   \n",
       "...                    ...                       ...   \n",
       "67116                    0                         0   \n",
       "67117                    0                         0   \n",
       "67118                    0                         0   \n",
       "67119                    0                         0   \n",
       "67120                    0                         0   \n",
       "\n",
       "       Key_languages_JavaScript  Key_languages_Lua  ...  Platforms_Heroku  \\\n",
       "0                             1                  0  ...                 0   \n",
       "1                             0                  0  ...                 0   \n",
       "2                             1                  0  ...                 1   \n",
       "3                             1                  0  ...                 1   \n",
       "4                             1                  0  ...                 0   \n",
       "...                         ...                ...  ...               ...   \n",
       "67116                         1                  0  ...                 0   \n",
       "67117                         1                  0  ...                 0   \n",
       "67118                         1                  0  ...                 0   \n",
       "67119                         1                  0  ...                 1   \n",
       "67120                         1                  0  ...                 0   \n",
       "\n",
       "       Platforms_Cloudflare  Platforms_Firebase  Platforms_Digital Ocean  \\\n",
       "0                         0                   0                        0   \n",
       "1                         0                   0                        0   \n",
       "2                         1                   0                        0   \n",
       "3                         0                   1                        0   \n",
       "4                         1                   0                        0   \n",
       "...                     ...                 ...                      ...   \n",
       "67116                     0                   0                        0   \n",
       "67117                     0                   0                        1   \n",
       "67118                     0                   0                        0   \n",
       "67119                     0                   1                        1   \n",
       "67120                     0                   0                        0   \n",
       "\n",
       "       Platforms_Vercel  Platforms_OpenStack  Platforms_Hetzner  \\\n",
       "0                     1                    0                  0   \n",
       "1                     0                    1                  0   \n",
       "2                     0                    0                  0   \n",
       "3                     1                    0                  0   \n",
       "4                     0                    0                  0   \n",
       "...                 ...                  ...                ...   \n",
       "67116                 0                    0                  0   \n",
       "67117                 0                    0                  0   \n",
       "67118                 0                    0                  0   \n",
       "67119                 1                    0                  0   \n",
       "67120                 0                    0                  1   \n",
       "\n",
       "       Platforms_Fly.io  Platforms_Oracle Cloud Infrastructure (OCI)  \\\n",
       "0                     0                                            0   \n",
       "1                     0                                            0   \n",
       "2                     0                                            0   \n",
       "3                     0                                            0   \n",
       "4                     0                                            0   \n",
       "...                 ...                                          ...   \n",
       "67116                 0                                            0   \n",
       "67117                 0                                            0   \n",
       "67118                 0                                            0   \n",
       "67119                 0                                            0   \n",
       "67120                 0                                            0   \n",
       "\n",
       "       Platforms_Colocation  \n",
       "0                         0  \n",
       "1                         0  \n",
       "2                         0  \n",
       "3                         0  \n",
       "4                         0  \n",
       "...                     ...  \n",
       "67116                     0  \n",
       "67117                     0  \n",
       "67118                     0  \n",
       "67119                     0  \n",
       "67120                     0  \n",
       "\n",
       "[64478 rows x 144 columns]"
      ]
     },
     "execution_count": 9,
     "metadata": {},
     "output_type": "execute_result"
    }
   ],
   "source": [
    "skills_df"
   ]
  },
  {
   "cell_type": "code",
   "execution_count": null,
   "metadata": {},
   "outputs": [],
   "source": []
  },
  {
   "cell_type": "code",
   "execution_count": 10,
   "metadata": {},
   "outputs": [],
   "source": [
    "from sklearn.preprocessing import StandardScaler\n",
    "scaler = StandardScaler()\n",
    "scaled_skills = scaler.fit_transform(skills_df)"
   ]
  },
  {
   "cell_type": "markdown",
   "metadata": {},
   "source": [
    "we don't want to make decomposition in the skills but we want make that on the number of response for each skill so , will be make transpose of data\n"
   ]
  },
  {
   "cell_type": "code",
   "execution_count": 11,
   "metadata": {},
   "outputs": [
    {
     "data": {
      "text/plain": [
       "(144, 64478)"
      ]
     },
     "execution_count": 11,
     "metadata": {},
     "output_type": "execute_result"
    }
   ],
   "source": [
    "scaled_skills.T.shape"
   ]
  },
  {
   "cell_type": "code",
   "execution_count": 12,
   "metadata": {},
   "outputs": [],
   "source": [
    "from sklearn.decomposition import PCA\n",
    "pca_model = PCA(n_components=2)\n",
    "pca_sk_data = pca_model.fit_transform(scaled_skills.T)"
   ]
  },
  {
   "cell_type": "code",
   "execution_count": 13,
   "metadata": {},
   "outputs": [
    {
     "data": {
      "text/plain": [
       "0.0705735279551021"
      ]
     },
     "execution_count": 13,
     "metadata": {},
     "output_type": "execute_result"
    }
   ],
   "source": [
    "pca_model.explained_variance_ratio_.sum()"
   ]
  },
  {
   "cell_type": "code",
   "execution_count": 14,
   "metadata": {},
   "outputs": [
    {
     "data": {
      "text/plain": [
       "<Axes: >"
      ]
     },
     "execution_count": 14,
     "metadata": {},
     "output_type": "execute_result"
    },
    {
     "data": {
      "image/png": "[encoded data removed]",
      "text/plain": [
       "<Figure size 640x480 with 1 Axes>"
      ]
     },
     "metadata": {},
     "output_type": "display_data"
    }
   ],
   "source": [
    "sns.scatterplot(x=pca_sk_data[:, 0], y=pca_sk_data[:, 1])"
   ]
  },
  {
   "cell_type": "code",
   "execution_count": 15,
   "metadata": {},
   "outputs": [],
   "source": [
    "pca_sk_df = pd.DataFrame(pca_sk_data,  index=skills_df.columns)"
   ]
  },
  {
   "cell_type": "code",
   "execution_count": 16,
   "metadata": {},
   "outputs": [
    {
     "data": {
      "application/vnd.plotly.v1+json": {
       "config": {
        "plotlyServerURL": "https://plot.ly"
       },
       "data": [
        {
         "hovertemplate": "x=%{x}<br>y=%{y}<br>text=%{text}<extra></extra>",
         "legendgroup": "",
         "marker": {
          "color": "#636efa",
          "symbol": "circle"
         },
         "mode": "markers+text",
         "name": "",
         "orientation": "v",
         "showlegend": false,
         "text": [
          "Key_languages_Perl",
          "Key_languages_Fortran",
          "Key_languages_Prolog",
          "Key_languages_Zig",
          "Key_languages_VBA",
          "Key_languages_Crystal",
          "Key_languages_OCaml",
          "Key_languages_Don't have",
          "Key_languages_JavaScript",
          "Key_languages_Lua",
          "Key_languages_Apex",
          "Key_languages_PowerShell",
          "Key_languages_Java",
          "Key_languages_APL",
          "Key_languages_Flow",
          "Key_languages_Swift",
          "Key_languages_TypeScript",
          "Key_languages_HTML/CSS",
          "Key_languages_Rust",
          "Key_languages_Go",
          "Key_languages_Erlang",
          "Key_languages_Ada",
          "Key_languages_Delphi",
          "Key_languages_Lisp",
          "Key_languages_Assembly",
          "Key_languages_Nim",
          "Key_languages_SQL",
          "Key_languages_Haskell",
          "Key_languages_Bash/Shell (all shells)",
          "Key_languages_Clojure",
          "Key_languages_Scala",
          "Key_languages_Visual Basic (.Net)",
          "Key_languages_Raku",
          "Key_languages_Groovy",
          "Key_languages_C#",
          "Key_languages_C",
          "Key_languages_Dart",
          "Key_languages_Python",
          "Key_languages_C++",
          "Key_languages_Ruby",
          "Key_languages_R",
          "Key_languages_Julia",
          "Key_languages_Cobol",
          "Key_languages_GDScript",
          "Key_languages_Objective-C",
          "Key_languages_MATLAB",
          "Key_languages_F#",
          "Key_languages_Solidity",
          "Key_languages_Kotlin",
          "Key_languages_SAS",
          "Key_languages_PHP",
          "Key_languages_Elixir",
          "Databases_Firebase Realtime Database",
          "Databases_IBM DB2",
          "Databases_Elasticsearch",
          "Databases_Cloud Firestore",
          "Databases_MariaDB",
          "Databases_Microsoft Access",
          "Databases_Cassandra",
          "Databases_Don't have",
          "Databases_Microsoft SQL Server",
          "Databases_Dynamodb",
          "Databases_H2",
          "Databases_DuckDB",
          "Databases_MySQL",
          "Databases_Couch DB",
          "Databases_Firebird",
          "Databases_RavenDB",
          "Databases_Supabase",
          "Databases_Solr",
          "Databases_PostgreSQL",
          "Databases_Redis",
          "Databases_Clickhouse",
          "Databases_InfluxDB",
          "Databases_SQLite",
          "Databases_BigQuery",
          "Databases_Cockroachdb",
          "Databases_Snowflake",
          "Databases_Oracle",
          "Databases_MongoDB",
          "Databases_TiDB",
          "Databases_Cosmos DB",
          "Databases_Couchbase",
          "Databases_Neo4J",
          "Databases_Datomic",
          "Web_frames_Django",
          "Web_frames_Angular",
          "Web_frames_Elm",
          "Web_frames_Spring Boot",
          "Web_frames_Deno",
          "Web_frames_Don't have",
          "Web_frames_Svelte",
          "Web_frames_Flask",
          "Web_frames_Lit",
          "Web_frames_Ruby on Rails",
          "Web_frames_Blazor",
          "Web_frames_Qwik",
          "Web_frames_Drupal",
          "Web_frames_Next.js",
          "Web_frames_Symfony",
          "Web_frames_FastAPI",
          "Web_frames_React",
          "Web_frames_Phoenix",
          "Web_frames_NestJS",
          "Web_frames_Play Framework",
          "Web_frames_WordPress",
          "Web_frames_Gatsby",
          "Web_frames_Nuxt.js",
          "Web_frames_jQuery",
          "Web_frames_CodeIgniter",
          "Web_frames_Express",
          "Web_frames_Laravel",
          "Web_frames_Solid.js",
          "Web_frames_ASP.NET",
          "Web_frames_Node.js",
          "Web_frames_ASP.NET CORE",
          "Web_frames_Remix",
          "Web_frames_Vue.js",
          "Web_frames_AngularJS",
          "Web_frames_Fastify",
          "Platforms_Google Cloud",
          "Platforms_OVH",
          "Platforms_Linode, now Akamai",
          "Platforms_IBM Cloud Or Watson",
          "Platforms_OpenShift",
          "Platforms_Render",
          "Platforms_Don't have",
          "Platforms_Netlify",
          "Platforms_VMware",
          "Platforms_Microsoft Azure",
          "Platforms_Scaleway",
          "Platforms_Vultr",
          "Platforms_Amazon Web Services (AWS)",
          "Platforms_Managed Hosting",
          "Platforms_Heroku",
          "Platforms_Cloudflare",
          "Platforms_Firebase",
          "Platforms_Digital Ocean",
          "Platforms_Vercel",
          "Platforms_OpenStack",
          "Platforms_Hetzner",
          "Platforms_Fly.io",
          "Platforms_Oracle Cloud Infrastructure (OCI)",
          "Platforms_Colocation"
         ],
         "textposition": "top center",
         "type": "scatter",
         "x": [
          45.99431459039693,
          64.86547351380977,
          50.179888544321926,
          28.606601063249222,
          49.50004693489271,
          36.830888177834474,
          47.311655457007824,
          19.72210863513307,
          -122.3363950817121,
          20.351211225912994,
          38.54647650670603,
          21.424421947900672,
          7.571593430519103,
          58.85398631763838,
          36.23909689965364,
          9.061893767774816,
          -118.56192730010002,
          -93.80068055303634,
          6.133719077276189,
          -32.71263582678113,
          36.17807109376405,
          58.533224767205354,
          68.73997534982878,
          55.20493133453886,
          63.70280169685548,
          40.55609063819439,
          -32.99906099448111,
          44.06704427816142,
          14.081564813325132,
          38.866776453848324,
          32.71060973735919,
          36.080922673140414,
          53.0287799726987,
          25.30577785099034,
          29.333353645283964,
          73.71308877371933,
          -17.75528852053068,
          20.968458835109306,
          80.31740333378994,
          -13.236309680511926,
          45.833303305239674,
          56.50652438468358,
          51.19157165208238,
          23.215646522675748,
          28.012987655984293,
          51.78425711670025,
          38.922293626030644,
          -7.511978088569834,
          1.6502872358174612,
          42.59174341755927,
          -54.983685019371364,
          12.699511482393845,
          -46.27503364154357,
          34.53479048727804,
          -36.98743341200292,
          -47.38842131432085,
          -37.88187946411636,
          36.75425639529583,
          12.774252067518672,
          112.69773816486037,
          25.622459275718374,
          -32.77991815713393,
          10.832410237230748,
          26.384484785796403,
          -67.92105345938738,
          5.759001390249934,
          42.57395707975713,
          25.314578371660794,
          -33.6048167678823,
          6.87831543756093,
          -66.5339510597353,
          -67.10908465254097,
          19.093983245309776,
          11.418704546112881,
          -15.532323081790112,
          -3.247535120304663,
          8.152579470014258,
          12.364407578236762,
          31.801184342300544,
          -76.5804355669815,
          27.075682809495692,
          10.255383548240129,
          18.112204867510854,
          8.099308659322569,
          30.885110606066725,
          -23.639593475647953,
          -37.63738266172108,
          20.628051034077245,
          -7.705223629704781,
          -18.21894243887916,
          166.62579659381134,
          -34.205001690167855,
          -13.953459667537418,
          5.580274039466146,
          -22.230792073269182,
          18.51530920111572,
          0.9136285710757871,
          -6.082535656452806,
          -105.3708783337759,
          -23.755459285828277,
          -11.745642048303989,
          -118.48235835903844,
          11.461035193904518,
          -57.99730639986766,
          19.61947133668355,
          -43.59234319520892,
          -34.29134291349578,
          -43.806348344479474,
          -45.104001968689076,
          -13.170614393657166,
          -108.05227462968843,
          -52.41151047159956,
          -7.8507371601339955,
          12.804245766150657,
          -126.7132847897935,
          11.1063136951676,
          -18.004420806074368,
          -65.66784464992082,
          -25.763781081386718,
          -30.549101135586263,
          -48.51831105404569,
          -9.097821244789843,
          -9.814589568678812,
          18.58130944577403,
          16.494781459074236,
          -12.886411179679271,
          131.23620158373475,
          -66.77583599333903,
          15.393169667248378,
          2.379186510350438,
          9.85649733087684,
          -0.18081765620082454,
          -75.36650104505895,
          -5.729981299582549,
          -66.01017709243538,
          -65.71377611166966,
          -69.74398564140117,
          -60.47395310962109,
          -85.81521036901353,
          22.00950658071052,
          -3.715524122824067,
          -9.299897845016574,
          22.93653490182628,
          22.368337342506923
         ],
         "xaxis": "x",
         "y": [
          -0.4044843396170784,
          -1.9873331405029344,
          -10.679910094473538,
          -48.62129931283282,
          62.870328255390284,
          -15.824818651548053,
          -31.89128750898756,
          18.002236932174597,
          51.51475690561034,
          -28.915504309611197,
          2.0145538652437445,
          100.86018740829427,
          0.12086135046402506,
          -19.233499742403932,
          -10.017944969150708,
          -15.026130392507463,
          21.807021607612736,
          62.24191672651828,
          -70.6605987571941,
          -53.96952560120041,
          -43.62149773583819,
          -12.245512573045346,
          32.64762820804669,
          -26.845401967076153,
          -6.211056482940297,
          -28.380724805322373,
          81.65500552669359,
          -38.843325880373946,
          -39.52912463409955,
          -38.068759975193124,
          -31.865651838302835,
          91.55990493980886,
          -18.147952748491512,
          -11.100648001031649,
          164.00987531090757,
          -18.30037334071484,
          -10.724166353832855,
          -40.98143652227308,
          -7.171455631747506,
          -42.01143953875228,
          0.3307167005654892,
          -30.85063324478092,
          10.694155442217578,
          -15.267203133810293,
          0.784966077003347,
          4.545555969641065,
          34.996760031465165,
          -18.27326211362928,
          -20.337760529097437,
          2.1309141201539816,
          40.21163550481405,
          -64.43761438061603,
          -7.791760723189261,
          23.150336950631683,
          -11.250320982296564,
          -19.32726857785672,
          20.031673681742813,
          77.19506802239519,
          -14.063474647736879,
          -51.3011362899848,
          173.9551033442058,
          -30.701736188646226,
          -2.2113409744397985,
          -18.032801070606553,
          35.894816133858995,
          -5.253142432578353,
          23.35074875115499,
          13.64562558480916,
          -28.892197240805423,
          3.8512719733627314,
          -49.89746784875998,
          -29.06608357610823,
          -24.256949339272534,
          -11.520110718183606,
          15.636329406967732,
          -29.85517652268991,
          -18.435536092968253,
          -14.25991025764065,
          50.896414313059125,
          2.112273817128901,
          -12.240348725171664,
          64.26137605182389,
          -2.205246937814852,
          -9.373353145891157,
          -18.314770559793992,
          -24.573112024289777,
          69.90581161102523,
          -22.274785683255207,
          -5.605148630045123,
          -28.609209631867973,
          -60.08614863108576,
          -27.859244448187923,
          -30.807785886436545,
          -8.312077209481524,
          -39.79070664706032,
          103.33621177575515,
          -14.717146759151458,
          18.754673504783828,
          -36.236263124392,
          10.873707769946817,
          -36.20677228573402,
          -16.25998975261988,
          -50.69889182213185,
          -19.99749764930372,
          -13.475474109683486,
          39.27501023528237,
          -18.464679383665647,
          -9.490782821618925,
          91.12722021700188,
          18.953403788644085,
          -19.972190168268792,
          16.7323477363957,
          -20.460722121610008,
          164.58136342734335,
          7.537660691685092,
          171.22231276918737,
          -22.680394425722465,
          12.654402760999027,
          55.81490767062917,
          -24.246535877732665,
          -31.99802188571482,
          -6.199705351108863,
          -17.937110778324506,
          -0.21545815997739115,
          -1.1479745312582648,
          -23.90165017615277,
          -5.878579819512448,
          -29.82350196346998,
          37.737912099707565,
          118.02601568327584,
          -19.2046799843113,
          -15.883043183827416,
          -49.341848221888455,
          15.546970244676398,
          -24.626259546230706,
          -20.892499511425658,
          -12.760510703634884,
          -28.696358426356756,
          -43.309495496037144,
          -8.190619050082107,
          -18.85312813957965,
          -46.88862072698274,
          2.178684999643747,
          -5.966540047094158
         ],
         "yaxis": "y"
        }
       ],
       "layout": {
        "height": 1000,
        "legend": {
         "tracegroupgap": 0
        },
        "margin": {
         "t": 60
        },
        "template": {
         "data": {
          "bar": [
           {
            "error_x": {
             "color": "#2a3f5f"
            },
            "error_y": {
             "color": "#2a3f5f"
            },
            "marker": {
             "line": {
              "color": "#E5ECF6",
              "width": 0.5
             },
             "pattern": {
              "fillmode": "overlay",
              "size": 10,
              "solidity": 0.2
             }
            },
            "type": "bar"
           }
          ],
          "barpolar": [
           {
            "marker": {
             "line": {
              "color": "#E5ECF6",
              "width": 0.5
             },
             "pattern": {
              "fillmode": "overlay",
              "size": 10,
              "solidity": 0.2
             }
            },
            "type": "barpolar"
           }
          ],
          "carpet": [
           {
            "aaxis": {
             "endlinecolor": "#2a3f5f",
             "gridcolor": "white",
             "linecolor": "white",
             "minorgridcolor": "white",
             "startlinecolor": "#2a3f5f"
            },
            "baxis": {
             "endlinecolor": "#2a3f5f",
             "gridcolor": "white",
             "linecolor": "white",
             "minorgridcolor": "white",
             "startlinecolor": "#2a3f5f"
            },
            "type": "carpet"
           }
          ],
          "choropleth": [
           {
            "colorbar": {
             "outlinewidth": 0,
             "ticks": ""
            },
            "type": "choropleth"
           }
          ],
          "contour": [
           {
            "colorbar": {
             "outlinewidth": 0,
             "ticks": ""
            },
            "colorscale": [
             [
              0,
              "#0d0887"
             ],
             [
              0.1111111111111111,
              "#46039f"
             ],
             [
              0.2222222222222222,
              "#7201a8"
             ],
             [
              0.3333333333333333,
              "#9c179e"
             ],
             [
              0.4444444444444444,
              "#bd3786"
             ],
             [
              0.5555555555555556,
              "#d8576b"
             ],
             [
              0.6666666666666666,
              "#ed7953"
             ],
             [
              0.7777777777777778,
              "#fb9f3a"
             ],
             [
              0.8888888888888888,
              "#fdca26"
             ],
             [
              1,
              "#f0f921"
             ]
            ],
            "type": "contour"
           }
          ],
          "contourcarpet": [
           {
            "colorbar": {
             "outlinewidth": 0,
             "ticks": ""
            },
            "type": "contourcarpet"
           }
          ],
          "heatmap": [
           {
            "colorbar": {
             "outlinewidth": 0,
             "ticks": ""
            },
            "colorscale": [
             [
              0,
              "#0d0887"
             ],
             [
              0.1111111111111111,
              "#46039f"
             ],
             [
              0.2222222222222222,
              "#7201a8"
             ],
             [
              0.3333333333333333,
              "#9c179e"
             ],
             [
              0.4444444444444444,
              "#bd3786"
             ],
             [
              0.5555555555555556,
              "#d8576b"
             ],
             [
              0.6666666666666666,
              "#ed7953"
             ],
             [
              0.7777777777777778,
              "#fb9f3a"
             ],
             [
              0.8888888888888888,
              "#fdca26"
             ],
             [
              1,
              "#f0f921"
             ]
            ],
            "type": "heatmap"
           }
          ],
          "heatmapgl": [
           {
            "colorbar": {
             "outlinewidth": 0,
             "ticks": ""
            },
            "colorscale": [
             [
              0,
              "#0d0887"
             ],
             [
              0.1111111111111111,
              "#46039f"
             ],
             [
              0.2222222222222222,
              "#7201a8"
             ],
             [
              0.3333333333333333,
              "#9c179e"
             ],
             [
              0.4444444444444444,
              "#bd3786"
             ],
             [
              0.5555555555555556,
              "#d8576b"
             ],
             [
              0.6666666666666666,
              "#ed7953"
             ],
             [
              0.7777777777777778,
              "#fb9f3a"
             ],
             [
              0.8888888888888888,
              "#fdca26"
             ],
             [
              1,
              "#f0f921"
             ]
            ],
            "type": "heatmapgl"
           }
          ],
          "histogram": [
           {
            "marker": {
             "pattern": {
              "fillmode": "overlay",
              "size": 10,
              "solidity": 0.2
             }
            },
            "type": "histogram"
           }
          ],
          "histogram2d": [
           {
            "colorbar": {
             "outlinewidth": 0,
             "ticks": ""
            },
            "colorscale": [
             [
              0,
              "#0d0887"
             ],
             [
              0.1111111111111111,
              "#46039f"
             ],
             [
              0.2222222222222222,
              "#7201a8"
             ],
             [
              0.3333333333333333,
              "#9c179e"
             ],
             [
              0.4444444444444444,
              "#bd3786"
             ],
             [
              0.5555555555555556,
              "#d8576b"
             ],
             [
              0.6666666666666666,
              "#ed7953"
             ],
             [
              0.7777777777777778,
              "#fb9f3a"
             ],
             [
              0.8888888888888888,
              "#fdca26"
             ],
             [
              1,
              "#f0f921"
             ]
            ],
            "type": "histogram2d"
           }
          ],
          "histogram2dcontour": [
           {
            "colorbar": {
             "outlinewidth": 0,
             "ticks": ""
            },
            "colorscale": [
             [
              0,
              "#0d0887"
             ],
             [
              0.1111111111111111,
              "#46039f"
             ],
             [
              0.2222222222222222,
              "#7201a8"
             ],
             [
              0.3333333333333333,
              "#9c179e"
             ],
             [
              0.4444444444444444,
              "#bd3786"
             ],
             [
              0.5555555555555556,
              "#d8576b"
             ],
             [
              0.6666666666666666,
              "#ed7953"
             ],
             [
              0.7777777777777778,
              "#fb9f3a"
             ],
             [
              0.8888888888888888,
              "#fdca26"
             ],
             [
              1,
              "#f0f921"
             ]
            ],
            "type": "histogram2dcontour"
           }
          ],
          "mesh3d": [
           {
            "colorbar": {
             "outlinewidth": 0,
             "ticks": ""
            },
            "type": "mesh3d"
           }
          ],
          "parcoords": [
           {
            "line": {
             "colorbar": {
              "outlinewidth": 0,
              "ticks": ""
             }
            },
            "type": "parcoords"
           }
          ],
          "pie": [
           {
            "automargin": true,
            "type": "pie"
           }
          ],
          "scatter": [
           {
            "fillpattern": {
             "fillmode": "overlay",
             "size": 10,
             "solidity": 0.2
            },
            "type": "scatter"
           }
          ],
          "scatter3d": [
           {
            "line": {
             "colorbar": {
              "outlinewidth": 0,
              "ticks": ""
             }
            },
            "marker": {
             "colorbar": {
              "outlinewidth": 0,
              "ticks": ""
             }
            },
            "type": "scatter3d"
           }
          ],
          "scattercarpet": [
           {
            "marker": {
             "colorbar": {
              "outlinewidth": 0,
              "ticks": ""
             }
            },
            "type": "scattercarpet"
           }
          ],
          "scattergeo": [
           {
            "marker": {
             "colorbar": {
              "outlinewidth": 0,
              "ticks": ""
             }
            },
            "type": "scattergeo"
           }
          ],
          "scattergl": [
           {
            "marker": {
             "colorbar": {
              "outlinewidth": 0,
              "ticks": ""
             }
            },
            "type": "scattergl"
           }
          ],
          "scattermapbox": [
           {
            "marker": {
             "colorbar": {
              "outlinewidth": 0,
              "ticks": ""
             }
            },
            "type": "scattermapbox"
           }
          ],
          "scatterpolar": [
           {
            "marker": {
             "colorbar": {
              "outlinewidth": 0,
              "ticks": ""
             }
            },
            "type": "scatterpolar"
           }
          ],
          "scatterpolargl": [
           {
            "marker": {
             "colorbar": {
              "outlinewidth": 0,
              "ticks": ""
             }
            },
            "type": "scatterpolargl"
           }
          ],
          "scatterternary": [
           {
            "marker": {
             "colorbar": {
              "outlinewidth": 0,
              "ticks": ""
             }
            },
            "type": "scatterternary"
           }
          ],
          "surface": [
           {
            "colorbar": {
             "outlinewidth": 0,
             "ticks": ""
            },
            "colorscale": [
             [
              0,
              "#0d0887"
             ],
             [
              0.1111111111111111,
              "#46039f"
             ],
             [
              0.2222222222222222,
              "#7201a8"
             ],
             [
              0.3333333333333333,
              "#9c179e"
             ],
             [
              0.4444444444444444,
              "#bd3786"
             ],
             [
              0.5555555555555556,
              "#d8576b"
             ],
             [
              0.6666666666666666,
              "#ed7953"
             ],
             [
              0.7777777777777778,
              "#fb9f3a"
             ],
             [
              0.8888888888888888,
              "#fdca26"
             ],
             [
              1,
              "#f0f921"
             ]
            ],
            "type": "surface"
           }
          ],
          "table": [
           {
            "cells": {
             "fill": {
              "color": "#EBF0F8"
             },
             "line": {
              "color": "white"
             }
            },
            "header": {
             "fill": {
              "color": "#C8D4E3"
             },
             "line": {
              "color": "white"
             }
            },
            "type": "table"
           }
          ]
         },
         "layout": {
          "annotationdefaults": {
           "arrowcolor": "#2a3f5f",
           "arrowhead": 0,
           "arrowwidth": 1
          },
          "autotypenumbers": "strict",
          "coloraxis": {
           "colorbar": {
            "outlinewidth": 0,
            "ticks": ""
           }
          },
          "colorscale": {
           "diverging": [
            [
             0,
             "#8e0152"
            ],
            [
             0.1,
             "#c51b7d"
            ],
            [
             0.2,
             "#de77ae"
            ],
            [
             0.3,
             "#f1b6da"
            ],
            [
             0.4,
             "#fde0ef"
            ],
            [
             0.5,
             "#f7f7f7"
            ],
            [
             0.6,
             "#e6f5d0"
            ],
            [
             0.7,
             "#b8e186"
            ],
            [
             0.8,
             "#7fbc41"
            ],
            [
             0.9,
             "#4d9221"
            ],
            [
             1,
             "#276419"
            ]
           ],
           "sequential": [
            [
             0,
             "#0d0887"
            ],
            [
             0.1111111111111111,
             "#46039f"
            ],
            [
             0.2222222222222222,
             "#7201a8"
            ],
            [
             0.3333333333333333,
             "#9c179e"
            ],
            [
             0.4444444444444444,
             "#bd3786"
            ],
            [
             0.5555555555555556,
             "#d8576b"
            ],
            [
             0.6666666666666666,
             "#ed7953"
            ],
            [
             0.7777777777777778,
             "#fb9f3a"
            ],
            [
             0.8888888888888888,
             "#fdca26"
            ],
            [
             1,
             "#f0f921"
            ]
           ],
           "sequentialminus": [
            [
             0,
             "#0d0887"
            ],
            [
             0.1111111111111111,
             "#46039f"
            ],
            [
             0.2222222222222222,
             "#7201a8"
            ],
            [
             0.3333333333333333,
             "#9c179e"
            ],
            [
             0.4444444444444444,
             "#bd3786"
            ],
            [
             0.5555555555555556,
             "#d8576b"
            ],
            [
             0.6666666666666666,
             "#ed7953"
            ],
            [
             0.7777777777777778,
             "#fb9f3a"
            ],
            [
             0.8888888888888888,
             "#fdca26"
            ],
            [
             1,
             "#f0f921"
            ]
           ]
          },
          "colorway": [
           "#636efa",
           "#EF553B",
           "#00cc96",
           "#ab63fa",
           "#FFA15A",
           "#19d3f3",
           "#FF6692",
           "#B6E880",
           "#FF97FF",
           "#FECB52"
          ],
          "font": {
           "color": "#2a3f5f"
          },
          "geo": {
           "bgcolor": "white",
           "lakecolor": "white",
           "landcolor": "#E5ECF6",
           "showlakes": true,
           "showland": true,
           "subunitcolor": "white"
          },
          "hoverlabel": {
           "align": "left"
          },
          "hovermode": "closest",
          "mapbox": {
           "style": "light"
          },
          "paper_bgcolor": "white",
          "plot_bgcolor": "#E5ECF6",
          "polar": {
           "angularaxis": {
            "gridcolor": "white",
            "linecolor": "white",
            "ticks": ""
           },
           "bgcolor": "#E5ECF6",
           "radialaxis": {
            "gridcolor": "white",
            "linecolor": "white",
            "ticks": ""
           }
          },
          "scene": {
           "xaxis": {
            "backgroundcolor": "#E5ECF6",
            "gridcolor": "white",
            "gridwidth": 2,
            "linecolor": "white",
            "showbackground": true,
            "ticks": "",
            "zerolinecolor": "white"
           },
           "yaxis": {
            "backgroundcolor": "#E5ECF6",
            "gridcolor": "white",
            "gridwidth": 2,
            "linecolor": "white",
            "showbackground": true,
            "ticks": "",
            "zerolinecolor": "white"
           },
           "zaxis": {
            "backgroundcolor": "#E5ECF6",
            "gridcolor": "white",
            "gridwidth": 2,
            "linecolor": "white",
            "showbackground": true,
            "ticks": "",
            "zerolinecolor": "white"
           }
          },
          "shapedefaults": {
           "line": {
            "color": "#2a3f5f"
           }
          },
          "ternary": {
           "aaxis": {
            "gridcolor": "white",
            "linecolor": "white",
            "ticks": ""
           },
           "baxis": {
            "gridcolor": "white",
            "linecolor": "white",
            "ticks": ""
           },
           "bgcolor": "#E5ECF6",
           "caxis": {
            "gridcolor": "white",
            "linecolor": "white",
            "ticks": ""
           }
          },
          "title": {
           "x": 0.05
          },
          "xaxis": {
           "automargin": true,
           "gridcolor": "white",
           "linecolor": "white",
           "ticks": "",
           "title": {
            "standoff": 15
           },
           "zerolinecolor": "white",
           "zerolinewidth": 2
          },
          "yaxis": {
           "automargin": true,
           "gridcolor": "white",
           "linecolor": "white",
           "ticks": "",
           "title": {
            "standoff": 15
           },
           "zerolinecolor": "white",
           "zerolinewidth": 2
          }
         }
        },
        "title": {
         "text": "TSNE"
        },
        "width": 2000,
        "xaxis": {
         "anchor": "y",
         "domain": [
          0,
          1
         ],
         "title": {
          "text": "x"
         }
        },
        "yaxis": {
         "anchor": "x",
         "domain": [
          0,
          1
         ],
         "title": {
          "text": "y"
         }
        }
       }
      }
     },
     "metadata": {},
     "output_type": "display_data"
    }
   ],
   "source": [
    "fig = px.scatter(x=pca_sk_df[0], y=pca_sk_df[1], text=pca_sk_df.index)\n",
    "fig.update_traces(textposition='top center')\n",
    "fig.update_layout(height=1000, width=2000, title_text='TSNE')\n",
    "fig.show()"
   ]
  },
  {
   "cell_type": "code",
   "execution_count": 17,
   "metadata": {},
   "outputs": [],
   "source": [
    "from sklearn.manifold import TSNE\n",
    "\n",
    "tsne_skills = TSNE(n_components=2, perplexity=5, n_iter=5000, random_state=42)\n",
    "\n",
    "tsna_sk_data = tsne_skills.fit_transform(scaled_skills.T)"
   ]
  },
  {
   "cell_type": "code",
   "execution_count": 18,
   "metadata": {},
   "outputs": [
    {
     "data": {
      "text/plain": [
       "(144, 2)"
      ]
     },
     "execution_count": 18,
     "metadata": {},
     "output_type": "execute_result"
    }
   ],
   "source": [
    "tsna_sk_data.shape"
   ]
  },
  {
   "cell_type": "code",
   "execution_count": 19,
   "metadata": {},
   "outputs": [],
   "source": [
    "tsne_sk_df = pd.DataFrame(tsna_sk_data,  index=skills_df.columns)"
   ]
  },
  {
   "cell_type": "code",
   "execution_count": 20,
   "metadata": {},
   "outputs": [
    {
     "data": {
      "text/plain": [
       "<Axes: >"
      ]
     },
     "execution_count": 20,
     "metadata": {},
     "output_type": "execute_result"
    },
    {
     "data": {
      "image/png": "[encoded data removed]",
      "text/plain": [
       "<Figure size 640x480 with 1 Axes>"
      ]
     },
     "metadata": {},
     "output_type": "display_data"
    }
   ],
   "source": [
    "sns.scatterplot(x=tsna_sk_data[:, 0], y=tsna_sk_data[:, 1])"
   ]
  },
  {
   "cell_type": "code",
   "execution_count": null,
   "metadata": {},
   "outputs": [],
   "source": []
  },
  {
   "cell_type": "code",
   "execution_count": 21,
   "metadata": {},
   "outputs": [
    {
     "data": {
      "application/vnd.plotly.v1+json": {
       "config": {
        "plotlyServerURL": "https://plot.ly"
       },
       "data": [
        {
         "hovertemplate": "x=%{x}<br>y=%{y}<br>text=%{text}<extra></extra>",
         "legendgroup": "",
         "marker": {
          "color": "#636efa",
          "symbol": "circle"
         },
         "mode": "markers+text",
         "name": "",
         "orientation": "v",
         "showlegend": false,
         "text": [
          "Key_languages_Perl",
          "Key_languages_Fortran",
          "Key_languages_Prolog",
          "Key_languages_Zig",
          "Key_languages_VBA",
          "Key_languages_Crystal",
          "Key_languages_OCaml",
          "Key_languages_Don't have",
          "Key_languages_JavaScript",
          "Key_languages_Lua",
          "Key_languages_Apex",
          "Key_languages_PowerShell",
          "Key_languages_Java",
          "Key_languages_APL",
          "Key_languages_Flow",
          "Key_languages_Swift",
          "Key_languages_TypeScript",
          "Key_languages_HTML/CSS",
          "Key_languages_Rust",
          "Key_languages_Go",
          "Key_languages_Erlang",
          "Key_languages_Ada",
          "Key_languages_Delphi",
          "Key_languages_Lisp",
          "Key_languages_Assembly",
          "Key_languages_Nim",
          "Key_languages_SQL",
          "Key_languages_Haskell",
          "Key_languages_Bash/Shell (all shells)",
          "Key_languages_Clojure",
          "Key_languages_Scala",
          "Key_languages_Visual Basic (.Net)",
          "Key_languages_Raku",
          "Key_languages_Groovy",
          "Key_languages_C#",
          "Key_languages_C",
          "Key_languages_Dart",
          "Key_languages_Python",
          "Key_languages_C++",
          "Key_languages_Ruby",
          "Key_languages_R",
          "Key_languages_Julia",
          "Key_languages_Cobol",
          "Key_languages_GDScript",
          "Key_languages_Objective-C",
          "Key_languages_MATLAB",
          "Key_languages_F#",
          "Key_languages_Solidity",
          "Key_languages_Kotlin",
          "Key_languages_SAS",
          "Key_languages_PHP",
          "Key_languages_Elixir",
          "Databases_Firebase Realtime Database",
          "Databases_IBM DB2",
          "Databases_Elasticsearch",
          "Databases_Cloud Firestore",
          "Databases_MariaDB",
          "Databases_Microsoft Access",
          "Databases_Cassandra",
          "Databases_Don't have",
          "Databases_Microsoft SQL Server",
          "Databases_Dynamodb",
          "Databases_H2",
          "Databases_DuckDB",
          "Databases_MySQL",
          "Databases_Couch DB",
          "Databases_Firebird",
          "Databases_RavenDB",
          "Databases_Supabase",
          "Databases_Solr",
          "Databases_PostgreSQL",
          "Databases_Redis",
          "Databases_Clickhouse",
          "Databases_InfluxDB",
          "Databases_SQLite",
          "Databases_BigQuery",
          "Databases_Cockroachdb",
          "Databases_Snowflake",
          "Databases_Oracle",
          "Databases_MongoDB",
          "Databases_TiDB",
          "Databases_Cosmos DB",
          "Databases_Couchbase",
          "Databases_Neo4J",
          "Databases_Datomic",
          "Web_frames_Django",
          "Web_frames_Angular",
          "Web_frames_Elm",
          "Web_frames_Spring Boot",
          "Web_frames_Deno",
          "Web_frames_Don't have",
          "Web_frames_Svelte",
          "Web_frames_Flask",
          "Web_frames_Lit",
          "Web_frames_Ruby on Rails",
          "Web_frames_Blazor",
          "Web_frames_Qwik",
          "Web_frames_Drupal",
          "Web_frames_Next.js",
          "Web_frames_Symfony",
          "Web_frames_FastAPI",
          "Web_frames_React",
          "Web_frames_Phoenix",
          "Web_frames_NestJS",
          "Web_frames_Play Framework",
          "Web_frames_WordPress",
          "Web_frames_Gatsby",
          "Web_frames_Nuxt.js",
          "Web_frames_jQuery",
          "Web_frames_CodeIgniter",
          "Web_frames_Express",
          "Web_frames_Laravel",
          "Web_frames_Solid.js",
          "Web_frames_ASP.NET",
          "Web_frames_Node.js",
          "Web_frames_ASP.NET CORE",
          "Web_frames_Remix",
          "Web_frames_Vue.js",
          "Web_frames_AngularJS",
          "Web_frames_Fastify",
          "Platforms_Google Cloud",
          "Platforms_OVH",
          "Platforms_Linode, now Akamai",
          "Platforms_IBM Cloud Or Watson",
          "Platforms_OpenShift",
          "Platforms_Render",
          "Platforms_Don't have",
          "Platforms_Netlify",
          "Platforms_VMware",
          "Platforms_Microsoft Azure",
          "Platforms_Scaleway",
          "Platforms_Vultr",
          "Platforms_Amazon Web Services (AWS)",
          "Platforms_Managed Hosting",
          "Platforms_Heroku",
          "Platforms_Cloudflare",
          "Platforms_Firebase",
          "Platforms_Digital Ocean",
          "Platforms_Vercel",
          "Platforms_OpenStack",
          "Platforms_Hetzner",
          "Platforms_Fly.io",
          "Platforms_Oracle Cloud Infrastructure (OCI)",
          "Platforms_Colocation"
         ],
         "textposition": "top center",
         "type": "scatter",
         "x": [
          -50.719265,
          -40.963055,
          -58.370605,
          -40.060272,
          -1.0362341,
          -50.46503,
          -62.585827,
          23.401747,
          23.51076,
          -35.179253,
          -29.271942,
          14.013468,
          -13.850578,
          -45.177574,
          -42.595333,
          -26.511438,
          22.45729,
          23.905624,
          -32.545288,
          -30.270405,
          -60.518227,
          -44.164635,
          -18.199516,
          -56.842052,
          -49.742508,
          -42.22125,
          15.2190075,
          -60.788467,
          -24.367588,
          -51.946102,
          -5.0167866,
          1.7326688,
          -47.95224,
          -9.382899,
          19.15042,
          -52.72297,
          -15.025728,
          -20.634012,
          -54.768948,
          -51.607746,
          -55.526485,
          -58.241028,
          -38.7043,
          -39.11546,
          -28.647612,
          -54.761513,
          23.304443,
          29.068684,
          -14.3094225,
          -52.061516,
          40.209023,
          -59.86981,
          -13.058374,
          -32.54467,
          4.837379,
          -10.297845,
          40.82555,
          -1.0429667,
          1.9984908,
          -61.66292,
          17.587484,
          -3.5007176,
          -11.808098,
          -10.252647,
          37.382767,
          8.841419,
          -16.286013,
          -41.06637,
          12.813837,
          35.18551,
          0.45582116,
          2.523376,
          -1.698374,
          8.035192,
          34.825294,
          -9.429888,
          3.5828412,
          0.03261449,
          -18.51885,
          26.070648,
          -43.638912,
          16.376392,
          6.9723215,
          8.637438,
          -49.593994,
          -17.975304,
          24.574196,
          -61.857166,
          -12.861681,
          11.202309,
          -59.513115,
          14.024565,
          -17.147352,
          14.846576,
          -51.67901,
          25.85223,
          18.48661,
          37.115295,
          17.185059,
          42.085667,
          -14.338697,
          20.504637,
          -61.35284,
          31.433352,
          -4.7309656,
          37.85693,
          12.538418,
          43.699333,
          33.518204,
          46.513428,
          28.513464,
          42.78449,
          16.426592,
          21.779596,
          26.39643,
          21.749758,
          18.959686,
          43.59043,
          25.099337,
          33.15934,
          -9.632886,
          35.941696,
          52.16424,
          -30.132057,
          -9.967216,
          4.0883036,
          -59.614105,
          11.229773,
          -1.7875285,
          16.837498,
          34.83371,
          49.885406,
          -1.2619703,
          46.797302,
          7.1519675,
          46.83142,
          -12.8296175,
          48.53093,
          14.741036,
          -8.187364,
          43.393837,
          -62.562225,
          -26.645775,
          49.5591
         ],
         "xaxis": "x",
         "y": [
          -26.493387,
          -43.848633,
          -15.343464,
          6.687074,
          -61.97528,
          7.6455903,
          -10.089474,
          -58.678318,
          40.996677,
          3.0949128,
          -31.172054,
          -66.40603,
          -31.31113,
          -28.755354,
          -26.454731,
          42.59443,
          44.674652,
          38.712048,
          6.5073953,
          7.7023315,
          3.957844,
          -31.521416,
          -65.91015,
          -12.675812,
          -49.997562,
          5.497971,
          -59.319386,
          -8.348673,
          1.9053404,
          -12.377491,
          -16.116516,
          -62.436314,
          -27.202654,
          -30.394772,
          -67.19107,
          -49.186043,
          46.21472,
          1.1007416,
          -50.055866,
          17.735102,
          -39.659306,
          -39.22644,
          -44.056625,
          0.44331348,
          42.3312,
          -44.867783,
          -71.22868,
          57.42314,
          -27.855028,
          -36.09149,
          -14.293101,
          6.93384,
          40.713985,
          -45.92937,
          2.5569215,
          43.703495,
          -9.547951,
          -59.371185,
          -5.1501412,
          -63.154243,
          -63.878834,
          12.331083,
          -36.19331,
          1.9293336,
          -11.261507,
          -14.097078,
          -66.82797,
          -14.420636,
          59.57855,
          -25.209883,
          6.6743,
          3.6126308,
          -1.8118235,
          0.022777231,
          -7.7630873,
          27.48525,
          -8.655057,
          15.914306,
          -33.195004,
          52.911037,
          -14.1789465,
          -74.64185,
          -13.0273485,
          5.8809533,
          -12.72423,
          -1.6063324,
          29.776752,
          -3.7253423,
          -33.497425,
          66.285385,
          -61.8663,
          65.311935,
          1.0246843,
          74.63446,
          19.870829,
          -66.36367,
          71.93323,
          -22.270885,
          54.451122,
          -19.40822,
          1.877556,
          48.69166,
          8.677912,
          47.24077,
          -18.237974,
          -16.58563,
          49.401085,
          31.631777,
          -15.304958,
          -15.712849,
          50.27243,
          -14.525007,
          70.818405,
          -63.550346,
          48.70741,
          -66.57854,
          58.903175,
          29.481867,
          27.507227,
          51.43271,
          29.654276,
          4.593399,
          8.447843,
          -46.519127,
          -40.557175,
          55.833366,
          -65.15848,
          52.95114,
          -55.25146,
          -71.370384,
          6.471622,
          11.220977,
          12.378481,
          -8.199406,
          52.751427,
          5.717451,
          43.264214,
          7.2736983,
          56.09904,
          -43.401802,
          1.6949322,
          11.74616,
          -31.844494,
          -5.358861
         ],
         "yaxis": "y"
        }
       ],
       "layout": {
        "height": 1000,
        "legend": {
         "tracegroupgap": 0
        },
        "margin": {
         "t": 60
        },
        "template": {
         "data": {
          "bar": [
           {
            "error_x": {
             "color": "#2a3f5f"
            },
            "error_y": {
             "color": "#2a3f5f"
            },
            "marker": {
             "line": {
              "color": "#E5ECF6",
              "width": 0.5
             },
             "pattern": {
              "fillmode": "overlay",
              "size": 10,
              "solidity": 0.2
             }
            },
            "type": "bar"
           }
          ],
          "barpolar": [
           {
            "marker": {
             "line": {
              "color": "#E5ECF6",
              "width": 0.5
             },
             "pattern": {
              "fillmode": "overlay",
              "size": 10,
              "solidity": 0.2
             }
            },
            "type": "barpolar"
           }
          ],
          "carpet": [
           {
            "aaxis": {
             "endlinecolor": "#2a3f5f",
             "gridcolor": "white",
             "linecolor": "white",
             "minorgridcolor": "white",
             "startlinecolor": "#2a3f5f"
            },
            "baxis": {
             "endlinecolor": "#2a3f5f",
             "gridcolor": "white",
             "linecolor": "white",
             "minorgridcolor": "white",
             "startlinecolor": "#2a3f5f"
            },
            "type": "carpet"
           }
          ],
          "choropleth": [
           {
            "colorbar": {
             "outlinewidth": 0,
             "ticks": ""
            },
            "type": "choropleth"
           }
          ],
          "contour": [
           {
            "colorbar": {
             "outlinewidth": 0,
             "ticks": ""
            },
            "colorscale": [
             [
              0,
              "#0d0887"
             ],
             [
              0.1111111111111111,
              "#46039f"
             ],
             [
              0.2222222222222222,
              "#7201a8"
             ],
             [
              0.3333333333333333,
              "#9c179e"
             ],
             [
              0.4444444444444444,
              "#bd3786"
             ],
             [
              0.5555555555555556,
              "#d8576b"
             ],
             [
              0.6666666666666666,
              "#ed7953"
             ],
             [
              0.7777777777777778,
              "#fb9f3a"
             ],
             [
              0.8888888888888888,
              "#fdca26"
             ],
             [
              1,
              "#f0f921"
             ]
            ],
            "type": "contour"
           }
          ],
          "contourcarpet": [
           {
            "colorbar": {
             "outlinewidth": 0,
             "ticks": ""
            },
            "type": "contourcarpet"
           }
          ],
          "heatmap": [
           {
            "colorbar": {
             "outlinewidth": 0,
             "ticks": ""
            },
            "colorscale": [
             [
              0,
              "#0d0887"
             ],
             [
              0.1111111111111111,
              "#46039f"
             ],
             [
              0.2222222222222222,
              "#7201a8"
             ],
             [
              0.3333333333333333,
              "#9c179e"
             ],
             [
              0.4444444444444444,
              "#bd3786"
             ],
             [
              0.5555555555555556,
              "#d8576b"
             ],
             [
              0.6666666666666666,
              "#ed7953"
             ],
             [
              0.7777777777777778,
              "#fb9f3a"
             ],
             [
              0.8888888888888888,
              "#fdca26"
             ],
             [
              1,
              "#f0f921"
             ]
            ],
            "type": "heatmap"
           }
          ],
          "heatmapgl": [
           {
            "colorbar": {
             "outlinewidth": 0,
             "ticks": ""
            },
            "colorscale": [
             [
              0,
              "#0d0887"
             ],
             [
              0.1111111111111111,
              "#46039f"
             ],
             [
              0.2222222222222222,
              "#7201a8"
             ],
             [
              0.3333333333333333,
              "#9c179e"
             ],
             [
              0.4444444444444444,
              "#bd3786"
             ],
             [
              0.5555555555555556,
              "#d8576b"
             ],
             [
              0.6666666666666666,
              "#ed7953"
             ],
             [
              0.7777777777777778,
              "#fb9f3a"
             ],
             [
              0.8888888888888888,
              "#fdca26"
             ],
             [
              1,
              "#f0f921"
             ]
            ],
            "type": "heatmapgl"
           }
          ],
          "histogram": [
           {
            "marker": {
             "pattern": {
              "fillmode": "overlay",
              "size": 10,
              "solidity": 0.2
             }
            },
            "type": "histogram"
           }
          ],
          "histogram2d": [
           {
            "colorbar": {
             "outlinewidth": 0,
             "ticks": ""
            },
            "colorscale": [
             [
              0,
              "#0d0887"
             ],
             [
              0.1111111111111111,
              "#46039f"
             ],
             [
              0.2222222222222222,
              "#7201a8"
             ],
             [
              0.3333333333333333,
              "#9c179e"
             ],
             [
              0.4444444444444444,
              "#bd3786"
             ],
             [
              0.5555555555555556,
              "#d8576b"
             ],
             [
              0.6666666666666666,
              "#ed7953"
             ],
             [
              0.7777777777777778,
              "#fb9f3a"
             ],
             [
              0.8888888888888888,
              "#fdca26"
             ],
             [
              1,
              "#f0f921"
             ]
            ],
            "type": "histogram2d"
           }
          ],
          "histogram2dcontour": [
           {
            "colorbar": {
             "outlinewidth": 0,
             "ticks": ""
            },
            "colorscale": [
             [
              0,
              "#0d0887"
             ],
             [
              0.1111111111111111,
              "#46039f"
             ],
             [
              0.2222222222222222,
              "#7201a8"
             ],
             [
              0.3333333333333333,
              "#9c179e"
             ],
             [
              0.4444444444444444,
              "#bd3786"
             ],
             [
              0.5555555555555556,
              "#d8576b"
             ],
             [
              0.6666666666666666,
              "#ed7953"
             ],
             [
              0.7777777777777778,
              "#fb9f3a"
             ],
             [
              0.8888888888888888,
              "#fdca26"
             ],
             [
              1,
              "#f0f921"
             ]
            ],
            "type": "histogram2dcontour"
           }
          ],
          "mesh3d": [
           {
            "colorbar": {
             "outlinewidth": 0,
             "ticks": ""
            },
            "type": "mesh3d"
           }
          ],
          "parcoords": [
           {
            "line": {
             "colorbar": {
              "outlinewidth": 0,
              "ticks": ""
             }
            },
            "type": "parcoords"
           }
          ],
          "pie": [
           {
            "automargin": true,
            "type": "pie"
           }
          ],
          "scatter": [
           {
            "fillpattern": {
             "fillmode": "overlay",
             "size": 10,
             "solidity": 0.2
            },
            "type": "scatter"
           }
          ],
          "scatter3d": [
           {
            "line": {
             "colorbar": {
              "outlinewidth": 0,
              "ticks": ""
             }
            },
            "marker": {
             "colorbar": {
              "outlinewidth": 0,
              "ticks": ""
             }
            },
            "type": "scatter3d"
           }
          ],
          "scattercarpet": [
           {
            "marker": {
             "colorbar": {
              "outlinewidth": 0,
              "ticks": ""
             }
            },
            "type": "scattercarpet"
           }
          ],
          "scattergeo": [
           {
            "marker": {
             "colorbar": {
              "outlinewidth": 0,
              "ticks": ""
             }
            },
            "type": "scattergeo"
           }
          ],
          "scattergl": [
           {
            "marker": {
             "colorbar": {
              "outlinewidth": 0,
              "ticks": ""
             }
            },
            "type": "scattergl"
           }
          ],
          "scattermapbox": [
           {
            "marker": {
             "colorbar": {
              "outlinewidth": 0,
              "ticks": ""
             }
            },
            "type": "scattermapbox"
           }
          ],
          "scatterpolar": [
           {
            "marker": {
             "colorbar": {
              "outlinewidth": 0,
              "ticks": ""
             }
            },
            "type": "scatterpolar"
           }
          ],
          "scatterpolargl": [
           {
            "marker": {
             "colorbar": {
              "outlinewidth": 0,
              "ticks": ""
             }
            },
            "type": "scatterpolargl"
           }
          ],
          "scatterternary": [
           {
            "marker": {
             "colorbar": {
              "outlinewidth": 0,
              "ticks": ""
             }
            },
            "type": "scatterternary"
           }
          ],
          "surface": [
           {
            "colorbar": {
             "outlinewidth": 0,
             "ticks": ""
            },
            "colorscale": [
             [
              0,
              "#0d0887"
             ],
             [
              0.1111111111111111,
              "#46039f"
             ],
             [
              0.2222222222222222,
              "#7201a8"
             ],
             [
              0.3333333333333333,
              "#9c179e"
             ],
             [
              0.4444444444444444,
              "#bd3786"
             ],
             [
              0.5555555555555556,
              "#d8576b"
             ],
             [
              0.6666666666666666,
              "#ed7953"
             ],
             [
              0.7777777777777778,
              "#fb9f3a"
             ],
             [
              0.8888888888888888,
              "#fdca26"
             ],
             [
              1,
              "#f0f921"
             ]
            ],
            "type": "surface"
           }
          ],
          "table": [
           {
            "cells": {
             "fill": {
              "color": "#EBF0F8"
             },
             "line": {
              "color": "white"
             }
            },
            "header": {
             "fill": {
              "color": "#C8D4E3"
             },
             "line": {
              "color": "white"
             }
            },
            "type": "table"
           }
          ]
         },
         "layout": {
          "annotationdefaults": {
           "arrowcolor": "#2a3f5f",
           "arrowhead": 0,
           "arrowwidth": 1
          },
          "autotypenumbers": "strict",
          "coloraxis": {
           "colorbar": {
            "outlinewidth": 0,
            "ticks": ""
           }
          },
          "colorscale": {
           "diverging": [
            [
             0,
             "#8e0152"
            ],
            [
             0.1,
             "#c51b7d"
            ],
            [
             0.2,
             "#de77ae"
            ],
            [
             0.3,
             "#f1b6da"
            ],
            [
             0.4,
             "#fde0ef"
            ],
            [
             0.5,
             "#f7f7f7"
            ],
            [
             0.6,
             "#e6f5d0"
            ],
            [
             0.7,
             "#b8e186"
            ],
            [
             0.8,
             "#7fbc41"
            ],
            [
             0.9,
             "#4d9221"
            ],
            [
             1,
             "#276419"
            ]
           ],
           "sequential": [
            [
             0,
             "#0d0887"
            ],
            [
             0.1111111111111111,
             "#46039f"
            ],
            [
             0.2222222222222222,
             "#7201a8"
            ],
            [
             0.3333333333333333,
             "#9c179e"
            ],
            [
             0.4444444444444444,
             "#bd3786"
            ],
            [
             0.5555555555555556,
             "#d8576b"
            ],
            [
             0.6666666666666666,
             "#ed7953"
            ],
            [
             0.7777777777777778,
             "#fb9f3a"
            ],
            [
             0.8888888888888888,
             "#fdca26"
            ],
            [
             1,
             "#f0f921"
            ]
           ],
           "sequentialminus": [
            [
             0,
             "#0d0887"
            ],
            [
             0.1111111111111111,
             "#46039f"
            ],
            [
             0.2222222222222222,
             "#7201a8"
            ],
            [
             0.3333333333333333,
             "#9c179e"
            ],
            [
             0.4444444444444444,
             "#bd3786"
            ],
            [
             0.5555555555555556,
             "#d8576b"
            ],
            [
             0.6666666666666666,
             "#ed7953"
            ],
            [
             0.7777777777777778,
             "#fb9f3a"
            ],
            [
             0.8888888888888888,
             "#fdca26"
            ],
            [
             1,
             "#f0f921"
            ]
           ]
          },
          "colorway": [
           "#636efa",
           "#EF553B",
           "#00cc96",
           "#ab63fa",
           "#FFA15A",
           "#19d3f3",
           "#FF6692",
           "#B6E880",
           "#FF97FF",
           "#FECB52"
          ],
          "font": {
           "color": "#2a3f5f"
          },
          "geo": {
           "bgcolor": "white",
           "lakecolor": "white",
           "landcolor": "#E5ECF6",
           "showlakes": true,
           "showland": true,
           "subunitcolor": "white"
          },
          "hoverlabel": {
           "align": "left"
          },
          "hovermode": "closest",
          "mapbox": {
           "style": "light"
          },
          "paper_bgcolor": "white",
          "plot_bgcolor": "#E5ECF6",
          "polar": {
           "angularaxis": {
            "gridcolor": "white",
            "linecolor": "white",
            "ticks": ""
           },
           "bgcolor": "#E5ECF6",
           "radialaxis": {
            "gridcolor": "white",
            "linecolor": "white",
            "ticks": ""
           }
          },
          "scene": {
           "xaxis": {
            "backgroundcolor": "#E5ECF6",
            "gridcolor": "white",
            "gridwidth": 2,
            "linecolor": "white",
            "showbackground": true,
            "ticks": "",
            "zerolinecolor": "white"
           },
           "yaxis": {
            "backgroundcolor": "#E5ECF6",
            "gridcolor": "white",
            "gridwidth": 2,
            "linecolor": "white",
            "showbackground": true,
            "ticks": "",
            "zerolinecolor": "white"
           },
           "zaxis": {
            "backgroundcolor": "#E5ECF6",
            "gridcolor": "white",
            "gridwidth": 2,
            "linecolor": "white",
            "showbackground": true,
            "ticks": "",
            "zerolinecolor": "white"
           }
          },
          "shapedefaults": {
           "line": {
            "color": "#2a3f5f"
           }
          },
          "ternary": {
           "aaxis": {
            "gridcolor": "white",
            "linecolor": "white",
            "ticks": ""
           },
           "baxis": {
            "gridcolor": "white",
            "linecolor": "white",
            "ticks": ""
           },
           "bgcolor": "#E5ECF6",
           "caxis": {
            "gridcolor": "white",
            "linecolor": "white",
            "ticks": ""
           }
          },
          "title": {
           "x": 0.05
          },
          "xaxis": {
           "automargin": true,
           "gridcolor": "white",
           "linecolor": "white",
           "ticks": "",
           "title": {
            "standoff": 15
           },
           "zerolinecolor": "white",
           "zerolinewidth": 2
          },
          "yaxis": {
           "automargin": true,
           "gridcolor": "white",
           "linecolor": "white",
           "ticks": "",
           "title": {
            "standoff": 15
           },
           "zerolinecolor": "white",
           "zerolinewidth": 2
          }
         }
        },
        "title": {
         "text": "TSNE"
        },
        "width": 2000,
        "xaxis": {
         "anchor": "y",
         "domain": [
          0,
          1
         ],
         "title": {
          "text": "x"
         }
        },
        "yaxis": {
         "anchor": "x",
         "domain": [
          0,
          1
         ],
         "title": {
          "text": "y"
         }
        }
       }
      }
     },
     "metadata": {},
     "output_type": "display_data"
    }
   ],
   "source": [
    "fig = px.scatter(x=tsne_sk_df[0], y=tsne_sk_df[1], text=tsne_sk_df.index)\n",
    "fig.update_traces(textposition='top center')\n",
    "fig.update_layout(height=1000, width=2000, title_text='TSNE')\n",
    "fig.show()"
   ]
  },
  {
   "cell_type": "markdown",
   "metadata": {},
   "source": [
    "the TSNE separates the classes better than PCA\n"
   ]
  },
  {
   "cell_type": "markdown",
   "metadata": {},
   "source": [
    "# Clustring\n"
   ]
  },
  {
   "cell_type": "code",
   "execution_count": 22,
   "metadata": {},
   "outputs": [],
   "source": [
    "from sklearn.cluster import KMeans\n",
    "\n",
    "knn_model = KMeans(n_clusters=10, n_init='auto', random_state=42)\n",
    "\n",
    "classes = knn_model.fit_predict(tsne_sk_df)"
   ]
  },
  {
   "cell_type": "code",
   "execution_count": 23,
   "metadata": {},
   "outputs": [
    {
     "data": {
      "text/plain": [
       "<Axes: >"
      ]
     },
     "execution_count": 23,
     "metadata": {},
     "output_type": "execute_result"
    },
    {
     "data": {
      "image/png": "[encoded data removed]",
      "text/plain": [
       "<Figure size 640x480 with 1 Axes>"
      ]
     },
     "metadata": {},
     "output_type": "display_data"
    }
   ],
   "source": [
    "sns.scatterplot(x=tsna_sk_data[:, 0],\n",
    "                y=tsna_sk_data[:, 1], hue=classes, palette='Set1')"
   ]
  },
  {
   "cell_type": "markdown",
   "metadata": {},
   "source": [
    "## How many clusters are enough?\n"
   ]
  },
  {
   "cell_type": "code",
   "execution_count": 24,
   "metadata": {},
   "outputs": [],
   "source": [
    "SSD = []\n",
    "\n",
    "for k in range(2, 30):\n",
    "    knn_model = KMeans(n_clusters=k, n_init='auto', random_state=42)\n",
    "\n",
    "    knn_model.fit(tsne_sk_df)\n",
    "\n",
    "    SSD.append(knn_model.inertia_)"
   ]
  },
  {
   "cell_type": "code",
   "execution_count": 25,
   "metadata": {},
   "outputs": [
    {
     "data": {
      "text/plain": [
       "[<matplotlib.lines.Line2D at 0x20ec5129450>]"
      ]
     },
     "execution_count": 25,
     "metadata": {},
     "output_type": "execute_result"
    },
    {
     "data": {
      "image/png": "[encoded data removed]",
      "text/plain": [
       "<Figure size 640x480 with 1 Axes>"
      ]
     },
     "metadata": {},
     "output_type": "display_data"
    }
   ],
   "source": [
    "plt.plot(range(2, 30), SSD, '--o')"
   ]
  },
  {
   "cell_type": "markdown",
   "metadata": {},
   "source": [
    "i will choose 14 cluster\n"
   ]
  },
  {
   "cell_type": "code",
   "execution_count": 26,
   "metadata": {},
   "outputs": [
    {
     "data": {
      "text/plain": [
       "<Axes: >"
      ]
     },
     "execution_count": 26,
     "metadata": {},
     "output_type": "execute_result"
    },
    {
     "data": {
      "image/png": "[encoded data removed]",
      "text/plain": [
       "<Figure size 640x480 with 1 Axes>"
      ]
     },
     "metadata": {},
     "output_type": "display_data"
    }
   ],
   "source": [
    "from sklearn.cluster import KMeans\n",
    "\n",
    "knn_model = KMeans(n_clusters=14, n_init='auto', random_state=42)\n",
    "\n",
    "classes = knn_model.fit_predict(tsne_sk_df)\n",
    "sns.scatterplot(x=tsna_sk_data[:, 0],\n",
    "                y=tsna_sk_data[:, 1], hue=classes, palette='Set1')"
   ]
  },
  {
   "cell_type": "code",
   "execution_count": 60,
   "metadata": {},
   "outputs": [
    {
     "data": {
      "application/vnd.plotly.v1+json": {
       "config": {
        "plotlyServerURL": "https://plot.ly"
       },
       "data": [
        {
         "hovertemplate": "x=%{x}<br>y=%{y}<br>text=%{text}<br>color=%{marker.color}<extra></extra>",
         "legendgroup": "",
         "marker": {
          "color": [
           4,
           10,
           4,
           9,
           12,
           0,
           0,
           6,
           3,
           9,
           2,
           6,
           2,
           4,
           4,
           7,
           3,
           3,
           9,
           9,
           0,
           4,
           12,
           4,
           10,
           0,
           6,
           0,
           9,
           4,
           5,
           12,
           4,
           2,
           6,
           10,
           7,
           9,
           10,
           0,
           10,
           10,
           10,
           9,
           7,
           10,
           6,
           3,
           2,
           10,
           8,
           0,
           7,
           2,
           5,
           7,
           8,
           12,
           5,
           10,
           6,
           5,
           2,
           5,
           8,
           5,
           12,
           4,
           13,
           8,
           5,
           5,
           5,
           5,
           8,
           7,
           5,
           5,
           2,
           3,
           4,
           6,
           5,
           5,
           4,
           9,
           3,
           0,
           2,
           11,
           10,
           11,
           9,
           11,
           0,
           6,
           11,
           8,
           13,
           8,
           9,
           13,
           0,
           3,
           5,
           8,
           13,
           3,
           8,
           8,
           3,
           8,
           11,
           6,
           3,
           6,
           13,
           3,
           3,
           3,
           7,
           1,
           1,
           2,
           2,
           13,
           10,
           13,
           12,
           6,
           1,
           1,
           5,
           8,
           13,
           1,
           7,
           1,
           13,
           2,
           1,
           0,
           2,
           1
          ],
          "coloraxis": "coloraxis",
          "symbol": "circle"
         },
         "mode": "markers+text",
         "name": "",
         "orientation": "v",
         "showlegend": false,
         "text": [
          "Key_languages_Perl",
          "Key_languages_Fortran",
          "Key_languages_Prolog",
          "Key_languages_Zig",
          "Key_languages_VBA",
          "Key_languages_Crystal",
          "Key_languages_OCaml",
          "Key_languages_Don't have",
          "Key_languages_JavaScript",
          "Key_languages_Lua",
          "Key_languages_Apex",
          "Key_languages_PowerShell",
          "Key_languages_Java",
          "Key_languages_APL",
          "Key_languages_Flow",
          "Key_languages_Swift",
          "Key_languages_TypeScript",
          "Key_languages_HTML/CSS",
          "Key_languages_Rust",
          "Key_languages_Go",
          "Key_languages_Erlang",
          "Key_languages_Ada",
          "Key_languages_Delphi",
          "Key_languages_Lisp",
          "Key_languages_Assembly",
          "Key_languages_Nim",
          "Key_languages_SQL",
          "Key_languages_Haskell",
          "Key_languages_Bash/Shell (all shells)",
          "Key_languages_Clojure",
          "Key_languages_Scala",
          "Key_languages_Visual Basic (.Net)",
          "Key_languages_Raku",
          "Key_languages_Groovy",
          "Key_languages_C#",
          "Key_languages_C",
          "Key_languages_Dart",
          "Key_languages_Python",
          "Key_languages_C++",
          "Key_languages_Ruby",
          "Key_languages_R",
          "Key_languages_Julia",
          "Key_languages_Cobol",
          "Key_languages_GDScript",
          "Key_languages_Objective-C",
          "Key_languages_MATLAB",
          "Key_languages_F#",
          "Key_languages_Solidity",
          "Key_languages_Kotlin",
          "Key_languages_SAS",
          "Key_languages_PHP",
          "Key_languages_Elixir",
          "Databases_Firebase Realtime Database",
          "Databases_IBM DB2",
          "Databases_Elasticsearch",
          "Databases_Cloud Firestore",
          "Databases_MariaDB",
          "Databases_Microsoft Access",
          "Databases_Cassandra",
          "Databases_Don't have",
          "Databases_Microsoft SQL Server",
          "Databases_Dynamodb",
          "Databases_H2",
          "Databases_DuckDB",
          "Databases_MySQL",
          "Databases_Couch DB",
          "Databases_Firebird",
          "Databases_RavenDB",
          "Databases_Supabase",
          "Databases_Solr",
          "Databases_PostgreSQL",
          "Databases_Redis",
          "Databases_Clickhouse",
          "Databases_InfluxDB",
          "Databases_SQLite",
          "Databases_BigQuery",
          "Databases_Cockroachdb",
          "Databases_Snowflake",
          "Databases_Oracle",
          "Databases_MongoDB",
          "Databases_TiDB",
          "Databases_Cosmos DB",
          "Databases_Couchbase",
          "Databases_Neo4J",
          "Databases_Datomic",
          "Web_frames_Django",
          "Web_frames_Angular",
          "Web_frames_Elm",
          "Web_frames_Spring Boot",
          "Web_frames_Deno",
          "Web_frames_Don't have",
          "Web_frames_Svelte",
          "Web_frames_Flask",
          "Web_frames_Lit",
          "Web_frames_Ruby on Rails",
          "Web_frames_Blazor",
          "Web_frames_Qwik",
          "Web_frames_Drupal",
          "Web_frames_Next.js",
          "Web_frames_Symfony",
          "Web_frames_FastAPI",
          "Web_frames_React",
          "Web_frames_Phoenix",
          "Web_frames_NestJS",
          "Web_frames_Play Framework",
          "Web_frames_WordPress",
          "Web_frames_Gatsby",
          "Web_frames_Nuxt.js",
          "Web_frames_jQuery",
          "Web_frames_CodeIgniter",
          "Web_frames_Express",
          "Web_frames_Laravel",
          "Web_frames_Solid.js",
          "Web_frames_ASP.NET",
          "Web_frames_Node.js",
          "Web_frames_ASP.NET CORE",
          "Web_frames_Remix",
          "Web_frames_Vue.js",
          "Web_frames_AngularJS",
          "Web_frames_Fastify",
          "Platforms_Google Cloud",
          "Platforms_OVH",
          "Platforms_Linode, now Akamai",
          "Platforms_IBM Cloud Or Watson",
          "Platforms_OpenShift",
          "Platforms_Render",
          "Platforms_Don't have",
          "Platforms_Netlify",
          "Platforms_VMware",
          "Platforms_Microsoft Azure",
          "Platforms_Scaleway",
          "Platforms_Vultr",
          "Platforms_Amazon Web Services (AWS)",
          "Platforms_Managed Hosting",
          "Platforms_Heroku",
          "Platforms_Cloudflare",
          "Platforms_Firebase",
          "Platforms_Digital Ocean",
          "Platforms_Vercel",
          "Platforms_OpenStack",
          "Platforms_Hetzner",
          "Platforms_Fly.io",
          "Platforms_Oracle Cloud Infrastructure (OCI)",
          "Platforms_Colocation"
         ],
         "textposition": "top center",
         "type": "scatter",
         "x": [
          -50.719265,
          -40.963055,
          -58.370605,
          -40.060272,
          -1.0362341,
          -50.46503,
          -62.585827,
          23.401747,
          23.51076,
          -35.179253,
          -29.271942,
          14.013468,
          -13.850578,
          -45.177574,
          -42.595333,
          -26.511438,
          22.45729,
          23.905624,
          -32.545288,
          -30.270405,
          -60.518227,
          -44.164635,
          -18.199516,
          -56.842052,
          -49.742508,
          -42.22125,
          15.2190075,
          -60.788467,
          -24.367588,
          -51.946102,
          -5.0167866,
          1.7326688,
          -47.95224,
          -9.382899,
          19.15042,
          -52.72297,
          -15.025728,
          -20.634012,
          -54.768948,
          -51.607746,
          -55.526485,
          -58.241028,
          -38.7043,
          -39.11546,
          -28.647612,
          -54.761513,
          23.304443,
          29.068684,
          -14.3094225,
          -52.061516,
          40.209023,
          -59.86981,
          -13.058374,
          -32.54467,
          4.837379,
          -10.297845,
          40.82555,
          -1.0429667,
          1.9984908,
          -61.66292,
          17.587484,
          -3.5007176,
          -11.808098,
          -10.252647,
          37.382767,
          8.841419,
          -16.286013,
          -41.06637,
          12.813837,
          35.18551,
          0.45582116,
          2.523376,
          -1.698374,
          8.035192,
          34.825294,
          -9.429888,
          3.5828412,
          0.03261449,
          -18.51885,
          26.070648,
          -43.638912,
          16.376392,
          6.9723215,
          8.637438,
          -49.593994,
          -17.975304,
          24.574196,
          -61.857166,
          -12.861681,
          11.202309,
          -59.513115,
          14.024565,
          -17.147352,
          14.846576,
          -51.67901,
          25.85223,
          18.48661,
          37.115295,
          17.185059,
          42.085667,
          -14.338697,
          20.504637,
          -61.35284,
          31.433352,
          -4.7309656,
          37.85693,
          12.538418,
          43.699333,
          33.518204,
          46.513428,
          28.513464,
          42.78449,
          16.426592,
          21.779596,
          26.39643,
          21.749758,
          18.959686,
          43.59043,
          25.099337,
          33.15934,
          -9.632886,
          35.941696,
          52.16424,
          -30.132057,
          -9.967216,
          4.0883036,
          -59.614105,
          11.229773,
          -1.7875285,
          16.837498,
          34.83371,
          49.885406,
          -1.2619703,
          46.797302,
          7.1519675,
          46.83142,
          -12.8296175,
          48.53093,
          14.741036,
          -8.187364,
          43.393837,
          -62.562225,
          -26.645775,
          49.5591
         ],
         "xaxis": "x",
         "y": [
          -26.493387,
          -43.848633,
          -15.343464,
          6.687074,
          -61.97528,
          7.6455903,
          -10.089474,
          -58.678318,
          40.996677,
          3.0949128,
          -31.172054,
          -66.40603,
          -31.31113,
          -28.755354,
          -26.454731,
          42.59443,
          44.674652,
          38.712048,
          6.5073953,
          7.7023315,
          3.957844,
          -31.521416,
          -65.91015,
          -12.675812,
          -49.997562,
          5.497971,
          -59.319386,
          -8.348673,
          1.9053404,
          -12.377491,
          -16.116516,
          -62.436314,
          -27.202654,
          -30.394772,
          -67.19107,
          -49.186043,
          46.21472,
          1.1007416,
          -50.055866,
          17.735102,
          -39.659306,
          -39.22644,
          -44.056625,
          0.44331348,
          42.3312,
          -44.867783,
          -71.22868,
          57.42314,
          -27.855028,
          -36.09149,
          -14.293101,
          6.93384,
          40.713985,
          -45.92937,
          2.5569215,
          43.703495,
          -9.547951,
          -59.371185,
          -5.1501412,
          -63.154243,
          -63.878834,
          12.331083,
          -36.19331,
          1.9293336,
          -11.261507,
          -14.097078,
          -66.82797,
          -14.420636,
          59.57855,
          -25.209883,
          6.6743,
          3.6126308,
          -1.8118235,
          0.022777231,
          -7.7630873,
          27.48525,
          -8.655057,
          15.914306,
          -33.195004,
          52.911037,
          -14.1789465,
          -74.64185,
          -13.0273485,
          5.8809533,
          -12.72423,
          -1.6063324,
          29.776752,
          -3.7253423,
          -33.497425,
          66.285385,
          -61.8663,
          65.311935,
          1.0246843,
          74.63446,
          19.870829,
          -66.36367,
          71.93323,
          -22.270885,
          54.451122,
          -19.40822,
          1.877556,
          48.69166,
          8.677912,
          47.24077,
          -18.237974,
          -16.58563,
          49.401085,
          31.631777,
          -15.304958,
          -15.712849,
          50.27243,
          -14.525007,
          70.818405,
          -63.550346,
          48.70741,
          -66.57854,
          58.903175,
          29.481867,
          27.507227,
          51.43271,
          29.654276,
          4.593399,
          8.447843,
          -46.519127,
          -40.557175,
          55.833366,
          -65.15848,
          52.95114,
          -55.25146,
          -71.370384,
          6.471622,
          11.220977,
          12.378481,
          -8.199406,
          52.751427,
          5.717451,
          43.264214,
          7.2736983,
          56.09904,
          -43.401802,
          1.6949322,
          11.74616,
          -31.844494,
          -5.358861
         ],
         "yaxis": "y"
        }
       ],
       "layout": {
        "coloraxis": {
         "colorbar": {
          "title": {
           "text": "color"
          }
         },
         "colorscale": [
          [
           0,
           "#0d0887"
          ],
          [
           0.1111111111111111,
           "#46039f"
          ],
          [
           0.2222222222222222,
           "#7201a8"
          ],
          [
           0.3333333333333333,
           "#9c179e"
          ],
          [
           0.4444444444444444,
           "#bd3786"
          ],
          [
           0.5555555555555556,
           "#d8576b"
          ],
          [
           0.6666666666666666,
           "#ed7953"
          ],
          [
           0.7777777777777778,
           "#fb9f3a"
          ],
          [
           0.8888888888888888,
           "#fdca26"
          ],
          [
           1,
           "#f0f921"
          ]
         ]
        },
        "height": 1000,
        "legend": {
         "tracegroupgap": 0
        },
        "margin": {
         "t": 60
        },
        "template": {
         "data": {
          "bar": [
           {
            "error_x": {
             "color": "#2a3f5f"
            },
            "error_y": {
             "color": "#2a3f5f"
            },
            "marker": {
             "line": {
              "color": "#E5ECF6",
              "width": 0.5
             },
             "pattern": {
              "fillmode": "overlay",
              "size": 10,
              "solidity": 0.2
             }
            },
            "type": "bar"
           }
          ],
          "barpolar": [
           {
            "marker": {
             "line": {
              "color": "#E5ECF6",
              "width": 0.5
             },
             "pattern": {
              "fillmode": "overlay",
              "size": 10,
              "solidity": 0.2
             }
            },
            "type": "barpolar"
           }
          ],
          "carpet": [
           {
            "aaxis": {
             "endlinecolor": "#2a3f5f",
             "gridcolor": "white",
             "linecolor": "white",
             "minorgridcolor": "white",
             "startlinecolor": "#2a3f5f"
            },
            "baxis": {
             "endlinecolor": "#2a3f5f",
             "gridcolor": "white",
             "linecolor": "white",
             "minorgridcolor": "white",
             "startlinecolor": "#2a3f5f"
            },
            "type": "carpet"
           }
          ],
          "choropleth": [
           {
            "colorbar": {
             "outlinewidth": 0,
             "ticks": ""
            },
            "type": "choropleth"
           }
          ],
          "contour": [
           {
            "colorbar": {
             "outlinewidth": 0,
             "ticks": ""
            },
            "colorscale": [
             [
              0,
              "#0d0887"
             ],
             [
              0.1111111111111111,
              "#46039f"
             ],
             [
              0.2222222222222222,
              "#7201a8"
             ],
             [
              0.3333333333333333,
              "#9c179e"
             ],
             [
              0.4444444444444444,
              "#bd3786"
             ],
             [
              0.5555555555555556,
              "#d8576b"
             ],
             [
              0.6666666666666666,
              "#ed7953"
             ],
             [
              0.7777777777777778,
              "#fb9f3a"
             ],
             [
              0.8888888888888888,
              "#fdca26"
             ],
             [
              1,
              "#f0f921"
             ]
            ],
            "type": "contour"
           }
          ],
          "contourcarpet": [
           {
            "colorbar": {
             "outlinewidth": 0,
             "ticks": ""
            },
            "type": "contourcarpet"
           }
          ],
          "heatmap": [
           {
            "colorbar": {
             "outlinewidth": 0,
             "ticks": ""
            },
            "colorscale": [
             [
              0,
              "#0d0887"
             ],
             [
              0.1111111111111111,
              "#46039f"
             ],
             [
              0.2222222222222222,
              "#7201a8"
             ],
             [
              0.3333333333333333,
              "#9c179e"
             ],
             [
              0.4444444444444444,
              "#bd3786"
             ],
             [
              0.5555555555555556,
              "#d8576b"
             ],
             [
              0.6666666666666666,
              "#ed7953"
             ],
             [
              0.7777777777777778,
              "#fb9f3a"
             ],
             [
              0.8888888888888888,
              "#fdca26"
             ],
             [
              1,
              "#f0f921"
             ]
            ],
            "type": "heatmap"
           }
          ],
          "heatmapgl": [
           {
            "colorbar": {
             "outlinewidth": 0,
             "ticks": ""
            },
            "colorscale": [
             [
              0,
              "#0d0887"
             ],
             [
              0.1111111111111111,
              "#46039f"
             ],
             [
              0.2222222222222222,
              "#7201a8"
             ],
             [
              0.3333333333333333,
              "#9c179e"
             ],
             [
              0.4444444444444444,
              "#bd3786"
             ],
             [
              0.5555555555555556,
              "#d8576b"
             ],
             [
              0.6666666666666666,
              "#ed7953"
             ],
             [
              0.7777777777777778,
              "#fb9f3a"
             ],
             [
              0.8888888888888888,
              "#fdca26"
             ],
             [
              1,
              "#f0f921"
             ]
            ],
            "type": "heatmapgl"
           }
          ],
          "histogram": [
           {
            "marker": {
             "pattern": {
              "fillmode": "overlay",
              "size": 10,
              "solidity": 0.2
             }
            },
            "type": "histogram"
           }
          ],
          "histogram2d": [
           {
            "colorbar": {
             "outlinewidth": 0,
             "ticks": ""
            },
            "colorscale": [
             [
              0,
              "#0d0887"
             ],
             [
              0.1111111111111111,
              "#46039f"
             ],
             [
              0.2222222222222222,
              "#7201a8"
             ],
             [
              0.3333333333333333,
              "#9c179e"
             ],
             [
              0.4444444444444444,
              "#bd3786"
             ],
             [
              0.5555555555555556,
              "#d8576b"
             ],
             [
              0.6666666666666666,
              "#ed7953"
             ],
             [
              0.7777777777777778,
              "#fb9f3a"
             ],
             [
              0.8888888888888888,
              "#fdca26"
             ],
             [
              1,
              "#f0f921"
             ]
            ],
            "type": "histogram2d"
           }
          ],
          "histogram2dcontour": [
           {
            "colorbar": {
             "outlinewidth": 0,
             "ticks": ""
            },
            "colorscale": [
             [
              0,
              "#0d0887"
             ],
             [
              0.1111111111111111,
              "#46039f"
             ],
             [
              0.2222222222222222,
              "#7201a8"
             ],
             [
              0.3333333333333333,
              "#9c179e"
             ],
             [
              0.4444444444444444,
              "#bd3786"
             ],
             [
              0.5555555555555556,
              "#d8576b"
             ],
             [
              0.6666666666666666,
              "#ed7953"
             ],
             [
              0.7777777777777778,
              "#fb9f3a"
             ],
             [
              0.8888888888888888,
              "#fdca26"
             ],
             [
              1,
              "#f0f921"
             ]
            ],
            "type": "histogram2dcontour"
           }
          ],
          "mesh3d": [
           {
            "colorbar": {
             "outlinewidth": 0,
             "ticks": ""
            },
            "type": "mesh3d"
           }
          ],
          "parcoords": [
           {
            "line": {
             "colorbar": {
              "outlinewidth": 0,
              "ticks": ""
             }
            },
            "type": "parcoords"
           }
          ],
          "pie": [
           {
            "automargin": true,
            "type": "pie"
           }
          ],
          "scatter": [
           {
            "fillpattern": {
             "fillmode": "overlay",
             "size": 10,
             "solidity": 0.2
            },
            "type": "scatter"
           }
          ],
          "scatter3d": [
           {
            "line": {
             "colorbar": {
              "outlinewidth": 0,
              "ticks": ""
             }
            },
            "marker": {
             "colorbar": {
              "outlinewidth": 0,
              "ticks": ""
             }
            },
            "type": "scatter3d"
           }
          ],
          "scattercarpet": [
           {
            "marker": {
             "colorbar": {
              "outlinewidth": 0,
              "ticks": ""
             }
            },
            "type": "scattercarpet"
           }
          ],
          "scattergeo": [
           {
            "marker": {
             "colorbar": {
              "outlinewidth": 0,
              "ticks": ""
             }
            },
            "type": "scattergeo"
           }
          ],
          "scattergl": [
           {
            "marker": {
             "colorbar": {
              "outlinewidth": 0,
              "ticks": ""
             }
            },
            "type": "scattergl"
           }
          ],
          "scattermapbox": [
           {
            "marker": {
             "colorbar": {
              "outlinewidth": 0,
              "ticks": ""
             }
            },
            "type": "scattermapbox"
           }
          ],
          "scatterpolar": [
           {
            "marker": {
             "colorbar": {
              "outlinewidth": 0,
              "ticks": ""
             }
            },
            "type": "scatterpolar"
           }
          ],
          "scatterpolargl": [
           {
            "marker": {
             "colorbar": {
              "outlinewidth": 0,
              "ticks": ""
             }
            },
            "type": "scatterpolargl"
           }
          ],
          "scatterternary": [
           {
            "marker": {
             "colorbar": {
              "outlinewidth": 0,
              "ticks": ""
             }
            },
            "type": "scatterternary"
           }
          ],
          "surface": [
           {
            "colorbar": {
             "outlinewidth": 0,
             "ticks": ""
            },
            "colorscale": [
             [
              0,
              "#0d0887"
             ],
             [
              0.1111111111111111,
              "#46039f"
             ],
             [
              0.2222222222222222,
              "#7201a8"
             ],
             [
              0.3333333333333333,
              "#9c179e"
             ],
             [
              0.4444444444444444,
              "#bd3786"
             ],
             [
              0.5555555555555556,
              "#d8576b"
             ],
             [
              0.6666666666666666,
              "#ed7953"
             ],
             [
              0.7777777777777778,
              "#fb9f3a"
             ],
             [
              0.8888888888888888,
              "#fdca26"
             ],
             [
              1,
              "#f0f921"
             ]
            ],
            "type": "surface"
           }
          ],
          "table": [
           {
            "cells": {
             "fill": {
              "color": "#EBF0F8"
             },
             "line": {
              "color": "white"
             }
            },
            "header": {
             "fill": {
              "color": "#C8D4E3"
             },
             "line": {
              "color": "white"
             }
            },
            "type": "table"
           }
          ]
         },
         "layout": {
          "annotationdefaults": {
           "arrowcolor": "#2a3f5f",
           "arrowhead": 0,
           "arrowwidth": 1
          },
          "autotypenumbers": "strict",
          "coloraxis": {
           "colorbar": {
            "outlinewidth": 0,
            "ticks": ""
           }
          },
          "colorscale": {
           "diverging": [
            [
             0,
             "#8e0152"
            ],
            [
             0.1,
             "#c51b7d"
            ],
            [
             0.2,
             "#de77ae"
            ],
            [
             0.3,
             "#f1b6da"
            ],
            [
             0.4,
             "#fde0ef"
            ],
            [
             0.5,
             "#f7f7f7"
            ],
            [
             0.6,
             "#e6f5d0"
            ],
            [
             0.7,
             "#b8e186"
            ],
            [
             0.8,
             "#7fbc41"
            ],
            [
             0.9,
             "#4d9221"
            ],
            [
             1,
             "#276419"
            ]
           ],
           "sequential": [
            [
             0,
             "#0d0887"
            ],
            [
             0.1111111111111111,
             "#46039f"
            ],
            [
             0.2222222222222222,
             "#7201a8"
            ],
            [
             0.3333333333333333,
             "#9c179e"
            ],
            [
             0.4444444444444444,
             "#bd3786"
            ],
            [
             0.5555555555555556,
             "#d8576b"
            ],
            [
             0.6666666666666666,
             "#ed7953"
            ],
            [
             0.7777777777777778,
             "#fb9f3a"
            ],
            [
             0.8888888888888888,
             "#fdca26"
            ],
            [
             1,
             "#f0f921"
            ]
           ],
           "sequentialminus": [
            [
             0,
             "#0d0887"
            ],
            [
             0.1111111111111111,
             "#46039f"
            ],
            [
             0.2222222222222222,
             "#7201a8"
            ],
            [
             0.3333333333333333,
             "#9c179e"
            ],
            [
             0.4444444444444444,
             "#bd3786"
            ],
            [
             0.5555555555555556,
             "#d8576b"
            ],
            [
             0.6666666666666666,
             "#ed7953"
            ],
            [
             0.7777777777777778,
             "#fb9f3a"
            ],
            [
             0.8888888888888888,
             "#fdca26"
            ],
            [
             1,
             "#f0f921"
            ]
           ]
          },
          "colorway": [
           "#636efa",
           "#EF553B",
           "#00cc96",
           "#ab63fa",
           "#FFA15A",
           "#19d3f3",
           "#FF6692",
           "#B6E880",
           "#FF97FF",
           "#FECB52"
          ],
          "font": {
           "color": "#2a3f5f"
          },
          "geo": {
           "bgcolor": "white",
           "lakecolor": "white",
           "landcolor": "#E5ECF6",
           "showlakes": true,
           "showland": true,
           "subunitcolor": "white"
          },
          "hoverlabel": {
           "align": "left"
          },
          "hovermode": "closest",
          "mapbox": {
           "style": "light"
          },
          "paper_bgcolor": "white",
          "plot_bgcolor": "#E5ECF6",
          "polar": {
           "angularaxis": {
            "gridcolor": "white",
            "linecolor": "white",
            "ticks": ""
           },
           "bgcolor": "#E5ECF6",
           "radialaxis": {
            "gridcolor": "white",
            "linecolor": "white",
            "ticks": ""
           }
          },
          "scene": {
           "xaxis": {
            "backgroundcolor": "#E5ECF6",
            "gridcolor": "white",
            "gridwidth": 2,
            "linecolor": "white",
            "showbackground": true,
            "ticks": "",
            "zerolinecolor": "white"
           },
           "yaxis": {
            "backgroundcolor": "#E5ECF6",
            "gridcolor": "white",
            "gridwidth": 2,
            "linecolor": "white",
            "showbackground": true,
            "ticks": "",
            "zerolinecolor": "white"
           },
           "zaxis": {
            "backgroundcolor": "#E5ECF6",
            "gridcolor": "white",
            "gridwidth": 2,
            "linecolor": "white",
            "showbackground": true,
            "ticks": "",
            "zerolinecolor": "white"
           }
          },
          "shapedefaults": {
           "line": {
            "color": "#2a3f5f"
           }
          },
          "ternary": {
           "aaxis": {
            "gridcolor": "white",
            "linecolor": "white",
            "ticks": ""
           },
           "baxis": {
            "gridcolor": "white",
            "linecolor": "white",
            "ticks": ""
           },
           "bgcolor": "#E5ECF6",
           "caxis": {
            "gridcolor": "white",
            "linecolor": "white",
            "ticks": ""
           }
          },
          "title": {
           "x": 0.05
          },
          "xaxis": {
           "automargin": true,
           "gridcolor": "white",
           "linecolor": "white",
           "ticks": "",
           "title": {
            "standoff": 15
           },
           "zerolinecolor": "white",
           "zerolinewidth": 2
          },
          "yaxis": {
           "automargin": true,
           "gridcolor": "white",
           "linecolor": "white",
           "ticks": "",
           "title": {
            "standoff": 15
           },
           "zerolinecolor": "white",
           "zerolinewidth": 2
          }
         }
        },
        "title": {
         "text": "TSNE"
        },
        "width": 1900,
        "xaxis": {
         "anchor": "y",
         "domain": [
          0,
          1
         ],
         "title": {
          "text": "x"
         }
        },
        "yaxis": {
         "anchor": "x",
         "domain": [
          0,
          1
         ],
         "title": {
          "text": "y"
         }
        }
       }
      }
     },
     "metadata": {},
     "output_type": "display_data"
    }
   ],
   "source": [
    "fig = px.scatter(x=tsne_sk_df[0], y=tsne_sk_df[1],\n",
    "                 text=tsne_sk_df.index, color=classes)\n",
    "fig.update_traces(textposition='top center')\n",
    "fig.update_layout(height=1000, width=1900, title_text='TSNE')\n",
    "fig.show()"
   ]
  },
  {
   "cell_type": "code",
   "execution_count": 28,
   "metadata": {},
   "outputs": [
    {
     "data": {
      "text/plain": [
       "(144,)"
      ]
     },
     "execution_count": 28,
     "metadata": {},
     "output_type": "execute_result"
    }
   ],
   "source": [
    "classes.shape"
   ]
  },
  {
   "cell_type": "code",
   "execution_count": 37,
   "metadata": {},
   "outputs": [],
   "source": [
    "cluster_labels = [\"skills_group_\" + str(label)\n",
    "                  for label in knn_model.labels_]"
   ]
  },
  {
   "cell_type": "code",
   "execution_count": 43,
   "metadata": {},
   "outputs": [],
   "source": [
    "skills_clusters = tsne_sk_df.index.to_series().groupby(cluster_labels).apply(list)"
   ]
  },
  {
   "cell_type": "code",
   "execution_count": 44,
   "metadata": {},
   "outputs": [
    {
     "name": "stdout",
     "output_type": "stream",
     "text": [
      "skills_group_0\n",
      "['Key_languages_Crystal', 'Key_languages_OCaml', 'Key_languages_Erlang', 'Key_languages_Nim', 'Key_languages_Haskell', 'Key_languages_Ruby', 'Key_languages_Elixir', 'Web_frames_Elm', 'Web_frames_Ruby on Rails', 'Web_frames_Phoenix', 'Platforms_Fly.io']\n",
      "skills_group_1\n",
      "['Platforms_OVH', 'Platforms_Linode, now Akamai', 'Platforms_Scaleway', 'Platforms_Vultr', 'Platforms_Cloudflare', 'Platforms_Digital Ocean', 'Platforms_Hetzner', 'Platforms_Colocation']\n",
      "skills_group_10\n",
      "['Key_languages_Fortran', 'Key_languages_Assembly', 'Key_languages_C', 'Key_languages_C++', 'Key_languages_R', 'Key_languages_Julia', 'Key_languages_Cobol', 'Key_languages_MATLAB', 'Key_languages_SAS', \"Databases_Don't have\", \"Web_frames_Don't have\", \"Platforms_Don't have\"]\n",
      "skills_group_11\n",
      "['Web_frames_Deno', 'Web_frames_Svelte', 'Web_frames_Lit', 'Web_frames_Qwik', 'Web_frames_Solid.js']\n",
      "skills_group_12\n",
      "['Key_languages_VBA', 'Key_languages_Delphi', 'Key_languages_Visual Basic (.Net)', 'Databases_Microsoft Access', 'Databases_Firebird', 'Platforms_VMware']\n",
      "skills_group_13\n",
      "['Databases_Supabase', 'Web_frames_Next.js', 'Web_frames_React', 'Web_frames_Gatsby', 'Web_frames_Remix', 'Platforms_Render', 'Platforms_Netlify', 'Platforms_Heroku', 'Platforms_Vercel']\n",
      "skills_group_2\n",
      "['Key_languages_Apex', 'Key_languages_Java', 'Key_languages_Groovy', 'Key_languages_Kotlin', 'Databases_IBM DB2', 'Databases_H2', 'Databases_Oracle', 'Web_frames_Spring Boot', 'Platforms_IBM Cloud Or Watson', 'Platforms_OpenShift', 'Platforms_OpenStack', 'Platforms_Oracle Cloud Infrastructure (OCI)']\n",
      "skills_group_3\n",
      "['Key_languages_JavaScript', 'Key_languages_TypeScript', 'Key_languages_HTML/CSS', 'Key_languages_Solidity', 'Databases_MongoDB', 'Web_frames_Angular', 'Web_frames_NestJS', 'Web_frames_Nuxt.js', 'Web_frames_Express', 'Web_frames_Node.js', 'Web_frames_Vue.js', 'Web_frames_AngularJS', 'Web_frames_Fastify']\n",
      "skills_group_4\n",
      "['Key_languages_Perl', 'Key_languages_Prolog', 'Key_languages_APL', 'Key_languages_Flow', 'Key_languages_Ada', 'Key_languages_Lisp', 'Key_languages_Clojure', 'Key_languages_Raku', 'Databases_RavenDB', 'Databases_TiDB', 'Databases_Datomic']\n",
      "skills_group_5\n",
      "['Key_languages_Scala', 'Databases_Elasticsearch', 'Databases_Cassandra', 'Databases_Dynamodb', 'Databases_DuckDB', 'Databases_Couch DB', 'Databases_PostgreSQL', 'Databases_Redis', 'Databases_Clickhouse', 'Databases_InfluxDB', 'Databases_Cockroachdb', 'Databases_Snowflake', 'Databases_Couchbase', 'Databases_Neo4J', 'Web_frames_Play Framework', 'Platforms_Amazon Web Services (AWS)']\n",
      "skills_group_6\n",
      "[\"Key_languages_Don't have\", 'Key_languages_PowerShell', 'Key_languages_SQL', 'Key_languages_C#', 'Key_languages_F#', 'Databases_Microsoft SQL Server', 'Databases_Cosmos DB', 'Web_frames_Blazor', 'Web_frames_ASP.NET', 'Web_frames_ASP.NET CORE', 'Platforms_Microsoft Azure']\n",
      "skills_group_7\n",
      "['Key_languages_Swift', 'Key_languages_Dart', 'Key_languages_Objective-C', 'Databases_Firebase Realtime Database', 'Databases_Cloud Firestore', 'Databases_BigQuery', 'Platforms_Google Cloud', 'Platforms_Firebase']\n",
      "skills_group_8\n",
      "['Key_languages_PHP', 'Databases_MariaDB', 'Databases_MySQL', 'Databases_Solr', 'Databases_SQLite', 'Web_frames_Drupal', 'Web_frames_Symfony', 'Web_frames_WordPress', 'Web_frames_jQuery', 'Web_frames_CodeIgniter', 'Web_frames_Laravel', 'Platforms_Managed Hosting']\n",
      "skills_group_9\n",
      "['Key_languages_Zig', 'Key_languages_Lua', 'Key_languages_Rust', 'Key_languages_Go', 'Key_languages_Bash/Shell (all shells)', 'Key_languages_Python', 'Key_languages_GDScript', 'Web_frames_Django', 'Web_frames_Flask', 'Web_frames_FastAPI']\n"
     ]
    }
   ],
   "source": [
    "for cluster, skills in skills_clusters.items():\n",
    "    print(cluster)\n",
    "    print(skills)"
   ]
  },
  {
   "cell_type": "code",
   "execution_count": 54,
   "metadata": {},
   "outputs": [],
   "source": [
    "# skills_df[['Web_frames_Deno', 'Web_frames_Svelte', 'Web_frames_Lit', 'Web_frames_Qwik', 'Web_frames_Solid.js']].sum(axis=1)"
   ]
  },
  {
   "cell_type": "code",
   "execution_count": 47,
   "metadata": {},
   "outputs": [],
   "source": [
    "new_features = []\n",
    "\n",
    "for cluster, skills in skills_clusters.items():\n",
    "    cluster_sum = skills_df[skills].sum(axis=1)\n",
    "    cluster_sum.name = cluster\n",
    "    new_features.append(cluster_sum)\n",
    "\n",
    "fe_clustered_skills = pd.concat(new_features, axis=1)"
   ]
  },
  {
   "cell_type": "code",
   "execution_count": 48,
   "metadata": {},
   "outputs": [
    {
     "data": {
      "text/html": [
       "<div>\n",
       "<style scoped>\n",
       "    .dataframe tbody tr th:only-of-type {\n",
       "        vertical-align: middle;\n",
       "    }\n",
       "\n",
       "    .dataframe tbody tr th {\n",
       "        vertical-align: top;\n",
       "    }\n",
       "\n",
       "    .dataframe thead th {\n",
       "        text-align: right;\n",
       "    }\n",
       "</style>\n",
       "<table border=\"1\" class=\"dataframe\">\n",
       "  <thead>\n",
       "    <tr style=\"text-align: right;\">\n",
       "      <th></th>\n",
       "      <th>skills_group_0</th>\n",
       "      <th>skills_group_1</th>\n",
       "      <th>skills_group_10</th>\n",
       "      <th>skills_group_11</th>\n",
       "      <th>skills_group_12</th>\n",
       "      <th>skills_group_13</th>\n",
       "      <th>skills_group_2</th>\n",
       "      <th>skills_group_3</th>\n",
       "      <th>skills_group_4</th>\n",
       "      <th>skills_group_5</th>\n",
       "      <th>skills_group_6</th>\n",
       "      <th>skills_group_7</th>\n",
       "      <th>skills_group_8</th>\n",
       "      <th>skills_group_9</th>\n",
       "    </tr>\n",
       "  </thead>\n",
       "  <tbody>\n",
       "    <tr>\n",
       "      <th>0</th>\n",
       "      <td>1</td>\n",
       "      <td>0</td>\n",
       "      <td>0</td>\n",
       "      <td>0</td>\n",
       "      <td>0</td>\n",
       "      <td>6</td>\n",
       "      <td>0</td>\n",
       "      <td>3</td>\n",
       "      <td>0</td>\n",
       "      <td>1</td>\n",
       "      <td>1</td>\n",
       "      <td>1</td>\n",
       "      <td>0</td>\n",
       "      <td>4</td>\n",
       "    </tr>\n",
       "    <tr>\n",
       "      <th>1</th>\n",
       "      <td>2</td>\n",
       "      <td>1</td>\n",
       "      <td>2</td>\n",
       "      <td>0</td>\n",
       "      <td>1</td>\n",
       "      <td>0</td>\n",
       "      <td>1</td>\n",
       "      <td>0</td>\n",
       "      <td>0</td>\n",
       "      <td>1</td>\n",
       "      <td>0</td>\n",
       "      <td>1</td>\n",
       "      <td>0</td>\n",
       "      <td>3</td>\n",
       "    </tr>\n",
       "    <tr>\n",
       "      <th>2</th>\n",
       "      <td>2</td>\n",
       "      <td>1</td>\n",
       "      <td>0</td>\n",
       "      <td>0</td>\n",
       "      <td>0</td>\n",
       "      <td>2</td>\n",
       "      <td>0</td>\n",
       "      <td>5</td>\n",
       "      <td>0</td>\n",
       "      <td>2</td>\n",
       "      <td>1</td>\n",
       "      <td>0</td>\n",
       "      <td>2</td>\n",
       "      <td>1</td>\n",
       "    </tr>\n",
       "    <tr>\n",
       "      <th>3</th>\n",
       "      <td>0</td>\n",
       "      <td>0</td>\n",
       "      <td>0</td>\n",
       "      <td>0</td>\n",
       "      <td>0</td>\n",
       "      <td>6</td>\n",
       "      <td>0</td>\n",
       "      <td>7</td>\n",
       "      <td>0</td>\n",
       "      <td>3</td>\n",
       "      <td>0</td>\n",
       "      <td>2</td>\n",
       "      <td>0</td>\n",
       "      <td>2</td>\n",
       "    </tr>\n",
       "    <tr>\n",
       "      <th>4</th>\n",
       "      <td>1</td>\n",
       "      <td>1</td>\n",
       "      <td>0</td>\n",
       "      <td>0</td>\n",
       "      <td>0</td>\n",
       "      <td>0</td>\n",
       "      <td>0</td>\n",
       "      <td>7</td>\n",
       "      <td>0</td>\n",
       "      <td>3</td>\n",
       "      <td>1</td>\n",
       "      <td>3</td>\n",
       "      <td>0</td>\n",
       "      <td>3</td>\n",
       "    </tr>\n",
       "    <tr>\n",
       "      <th>...</th>\n",
       "      <td>...</td>\n",
       "      <td>...</td>\n",
       "      <td>...</td>\n",
       "      <td>...</td>\n",
       "      <td>...</td>\n",
       "      <td>...</td>\n",
       "      <td>...</td>\n",
       "      <td>...</td>\n",
       "      <td>...</td>\n",
       "      <td>...</td>\n",
       "      <td>...</td>\n",
       "      <td>...</td>\n",
       "      <td>...</td>\n",
       "      <td>...</td>\n",
       "    </tr>\n",
       "    <tr>\n",
       "      <th>67116</th>\n",
       "      <td>0</td>\n",
       "      <td>0</td>\n",
       "      <td>0</td>\n",
       "      <td>0</td>\n",
       "      <td>1</td>\n",
       "      <td>0</td>\n",
       "      <td>4</td>\n",
       "      <td>2</td>\n",
       "      <td>0</td>\n",
       "      <td>0</td>\n",
       "      <td>0</td>\n",
       "      <td>1</td>\n",
       "      <td>2</td>\n",
       "      <td>0</td>\n",
       "    </tr>\n",
       "    <tr>\n",
       "      <th>67117</th>\n",
       "      <td>0</td>\n",
       "      <td>1</td>\n",
       "      <td>2</td>\n",
       "      <td>0</td>\n",
       "      <td>3</td>\n",
       "      <td>0</td>\n",
       "      <td>4</td>\n",
       "      <td>7</td>\n",
       "      <td>0</td>\n",
       "      <td>1</td>\n",
       "      <td>6</td>\n",
       "      <td>0</td>\n",
       "      <td>10</td>\n",
       "      <td>1</td>\n",
       "    </tr>\n",
       "    <tr>\n",
       "      <th>67118</th>\n",
       "      <td>0</td>\n",
       "      <td>0</td>\n",
       "      <td>0</td>\n",
       "      <td>0</td>\n",
       "      <td>0</td>\n",
       "      <td>0</td>\n",
       "      <td>1</td>\n",
       "      <td>4</td>\n",
       "      <td>0</td>\n",
       "      <td>2</td>\n",
       "      <td>0</td>\n",
       "      <td>0</td>\n",
       "      <td>0</td>\n",
       "      <td>2</td>\n",
       "    </tr>\n",
       "    <tr>\n",
       "      <th>67119</th>\n",
       "      <td>0</td>\n",
       "      <td>1</td>\n",
       "      <td>1</td>\n",
       "      <td>1</td>\n",
       "      <td>0</td>\n",
       "      <td>2</td>\n",
       "      <td>2</td>\n",
       "      <td>10</td>\n",
       "      <td>0</td>\n",
       "      <td>1</td>\n",
       "      <td>1</td>\n",
       "      <td>2</td>\n",
       "      <td>3</td>\n",
       "      <td>2</td>\n",
       "    </tr>\n",
       "    <tr>\n",
       "      <th>67120</th>\n",
       "      <td>0</td>\n",
       "      <td>1</td>\n",
       "      <td>0</td>\n",
       "      <td>0</td>\n",
       "      <td>0</td>\n",
       "      <td>0</td>\n",
       "      <td>0</td>\n",
       "      <td>4</td>\n",
       "      <td>0</td>\n",
       "      <td>1</td>\n",
       "      <td>6</td>\n",
       "      <td>0</td>\n",
       "      <td>1</td>\n",
       "      <td>1</td>\n",
       "    </tr>\n",
       "  </tbody>\n",
       "</table>\n",
       "<p>64478 rows × 14 columns</p>\n",
       "</div>"
      ],
      "text/plain": [
       "       skills_group_0  skills_group_1  skills_group_10  skills_group_11  \\\n",
       "0                   1               0                0                0   \n",
       "1                   2               1                2                0   \n",
       "2                   2               1                0                0   \n",
       "3                   0               0                0                0   \n",
       "4                   1               1                0                0   \n",
       "...               ...             ...              ...              ...   \n",
       "67116               0               0                0                0   \n",
       "67117               0               1                2                0   \n",
       "67118               0               0                0                0   \n",
       "67119               0               1                1                1   \n",
       "67120               0               1                0                0   \n",
       "\n",
       "       skills_group_12  skills_group_13  skills_group_2  skills_group_3  \\\n",
       "0                    0                6               0               3   \n",
       "1                    1                0               1               0   \n",
       "2                    0                2               0               5   \n",
       "3                    0                6               0               7   \n",
       "4                    0                0               0               7   \n",
       "...                ...              ...             ...             ...   \n",
       "67116                1                0               4               2   \n",
       "67117                3                0               4               7   \n",
       "67118                0                0               1               4   \n",
       "67119                0                2               2              10   \n",
       "67120                0                0               0               4   \n",
       "\n",
       "       skills_group_4  skills_group_5  skills_group_6  skills_group_7  \\\n",
       "0                   0               1               1               1   \n",
       "1                   0               1               0               1   \n",
       "2                   0               2               1               0   \n",
       "3                   0               3               0               2   \n",
       "4                   0               3               1               3   \n",
       "...               ...             ...             ...             ...   \n",
       "67116               0               0               0               1   \n",
       "67117               0               1               6               0   \n",
       "67118               0               2               0               0   \n",
       "67119               0               1               1               2   \n",
       "67120               0               1               6               0   \n",
       "\n",
       "       skills_group_8  skills_group_9  \n",
       "0                   0               4  \n",
       "1                   0               3  \n",
       "2                   2               1  \n",
       "3                   0               2  \n",
       "4                   0               3  \n",
       "...               ...             ...  \n",
       "67116               2               0  \n",
       "67117              10               1  \n",
       "67118               0               2  \n",
       "67119               3               2  \n",
       "67120               1               1  \n",
       "\n",
       "[64478 rows x 14 columns]"
      ]
     },
     "execution_count": 48,
     "metadata": {},
     "output_type": "execute_result"
    }
   ],
   "source": [
    "fe_clustered_skills"
   ]
  },
  {
   "cell_type": "code",
   "execution_count": 56,
   "metadata": {},
   "outputs": [],
   "source": [
    "fe_clustered_skills[['EdLevel', 'experanse_years', 'DevType']\n",
    "                    ] = df[['EdLevel', 'experanse_years', 'DevType']]"
   ]
  },
  {
   "cell_type": "code",
   "execution_count": 57,
   "metadata": {},
   "outputs": [
    {
     "data": {
      "text/html": [
       "<div>\n",
       "<style scoped>\n",
       "    .dataframe tbody tr th:only-of-type {\n",
       "        vertical-align: middle;\n",
       "    }\n",
       "\n",
       "    .dataframe tbody tr th {\n",
       "        vertical-align: top;\n",
       "    }\n",
       "\n",
       "    .dataframe thead th {\n",
       "        text-align: right;\n",
       "    }\n",
       "</style>\n",
       "<table border=\"1\" class=\"dataframe\">\n",
       "  <thead>\n",
       "    <tr style=\"text-align: right;\">\n",
       "      <th></th>\n",
       "      <th>skills_group_0</th>\n",
       "      <th>skills_group_1</th>\n",
       "      <th>skills_group_10</th>\n",
       "      <th>skills_group_11</th>\n",
       "      <th>skills_group_12</th>\n",
       "      <th>skills_group_13</th>\n",
       "      <th>skills_group_2</th>\n",
       "      <th>skills_group_3</th>\n",
       "      <th>skills_group_4</th>\n",
       "      <th>skills_group_5</th>\n",
       "      <th>skills_group_6</th>\n",
       "      <th>skills_group_7</th>\n",
       "      <th>skills_group_8</th>\n",
       "      <th>skills_group_9</th>\n",
       "      <th>EdLevel</th>\n",
       "      <th>experanse_years</th>\n",
       "      <th>DevType</th>\n",
       "    </tr>\n",
       "  </thead>\n",
       "  <tbody>\n",
       "    <tr>\n",
       "      <th>0</th>\n",
       "      <td>1</td>\n",
       "      <td>0</td>\n",
       "      <td>0</td>\n",
       "      <td>0</td>\n",
       "      <td>0</td>\n",
       "      <td>6</td>\n",
       "      <td>0</td>\n",
       "      <td>3</td>\n",
       "      <td>0</td>\n",
       "      <td>1</td>\n",
       "      <td>1</td>\n",
       "      <td>1</td>\n",
       "      <td>0</td>\n",
       "      <td>4</td>\n",
       "      <td>Bachelor's</td>\n",
       "      <td>9.0</td>\n",
       "      <td>Executive</td>\n",
       "    </tr>\n",
       "    <tr>\n",
       "      <th>1</th>\n",
       "      <td>2</td>\n",
       "      <td>1</td>\n",
       "      <td>2</td>\n",
       "      <td>0</td>\n",
       "      <td>1</td>\n",
       "      <td>0</td>\n",
       "      <td>1</td>\n",
       "      <td>0</td>\n",
       "      <td>0</td>\n",
       "      <td>1</td>\n",
       "      <td>0</td>\n",
       "      <td>1</td>\n",
       "      <td>0</td>\n",
       "      <td>3</td>\n",
       "      <td>Bachelor's</td>\n",
       "      <td>23.0</td>\n",
       "      <td>Back-end Developer</td>\n",
       "    </tr>\n",
       "    <tr>\n",
       "      <th>2</th>\n",
       "      <td>2</td>\n",
       "      <td>1</td>\n",
       "      <td>0</td>\n",
       "      <td>0</td>\n",
       "      <td>0</td>\n",
       "      <td>2</td>\n",
       "      <td>0</td>\n",
       "      <td>5</td>\n",
       "      <td>0</td>\n",
       "      <td>2</td>\n",
       "      <td>1</td>\n",
       "      <td>0</td>\n",
       "      <td>2</td>\n",
       "      <td>1</td>\n",
       "      <td>Bachelor's</td>\n",
       "      <td>7.0</td>\n",
       "      <td>Front-end Developer</td>\n",
       "    </tr>\n",
       "    <tr>\n",
       "      <th>3</th>\n",
       "      <td>0</td>\n",
       "      <td>0</td>\n",
       "      <td>0</td>\n",
       "      <td>0</td>\n",
       "      <td>0</td>\n",
       "      <td>6</td>\n",
       "      <td>0</td>\n",
       "      <td>7</td>\n",
       "      <td>0</td>\n",
       "      <td>3</td>\n",
       "      <td>0</td>\n",
       "      <td>2</td>\n",
       "      <td>0</td>\n",
       "      <td>2</td>\n",
       "      <td>Bachelor's</td>\n",
       "      <td>4.0</td>\n",
       "      <td>Full-stack Developer</td>\n",
       "    </tr>\n",
       "    <tr>\n",
       "      <th>4</th>\n",
       "      <td>1</td>\n",
       "      <td>1</td>\n",
       "      <td>0</td>\n",
       "      <td>0</td>\n",
       "      <td>0</td>\n",
       "      <td>0</td>\n",
       "      <td>0</td>\n",
       "      <td>7</td>\n",
       "      <td>0</td>\n",
       "      <td>3</td>\n",
       "      <td>1</td>\n",
       "      <td>3</td>\n",
       "      <td>0</td>\n",
       "      <td>3</td>\n",
       "      <td>Some College/University</td>\n",
       "      <td>21.0</td>\n",
       "      <td>Back-end Developer</td>\n",
       "    </tr>\n",
       "    <tr>\n",
       "      <th>...</th>\n",
       "      <td>...</td>\n",
       "      <td>...</td>\n",
       "      <td>...</td>\n",
       "      <td>...</td>\n",
       "      <td>...</td>\n",
       "      <td>...</td>\n",
       "      <td>...</td>\n",
       "      <td>...</td>\n",
       "      <td>...</td>\n",
       "      <td>...</td>\n",
       "      <td>...</td>\n",
       "      <td>...</td>\n",
       "      <td>...</td>\n",
       "      <td>...</td>\n",
       "      <td>...</td>\n",
       "      <td>...</td>\n",
       "      <td>...</td>\n",
       "    </tr>\n",
       "    <tr>\n",
       "      <th>67116</th>\n",
       "      <td>0</td>\n",
       "      <td>0</td>\n",
       "      <td>0</td>\n",
       "      <td>0</td>\n",
       "      <td>1</td>\n",
       "      <td>0</td>\n",
       "      <td>4</td>\n",
       "      <td>2</td>\n",
       "      <td>0</td>\n",
       "      <td>0</td>\n",
       "      <td>0</td>\n",
       "      <td>1</td>\n",
       "      <td>2</td>\n",
       "      <td>0</td>\n",
       "      <td>Bachelor's</td>\n",
       "      <td>8.0</td>\n",
       "      <td>Mobile Developer</td>\n",
       "    </tr>\n",
       "    <tr>\n",
       "      <th>67117</th>\n",
       "      <td>0</td>\n",
       "      <td>1</td>\n",
       "      <td>2</td>\n",
       "      <td>0</td>\n",
       "      <td>3</td>\n",
       "      <td>0</td>\n",
       "      <td>4</td>\n",
       "      <td>7</td>\n",
       "      <td>0</td>\n",
       "      <td>1</td>\n",
       "      <td>6</td>\n",
       "      <td>0</td>\n",
       "      <td>10</td>\n",
       "      <td>1</td>\n",
       "      <td>Master's</td>\n",
       "      <td>11.0</td>\n",
       "      <td>Full-stack Developer</td>\n",
       "    </tr>\n",
       "    <tr>\n",
       "      <th>67118</th>\n",
       "      <td>0</td>\n",
       "      <td>0</td>\n",
       "      <td>0</td>\n",
       "      <td>0</td>\n",
       "      <td>0</td>\n",
       "      <td>0</td>\n",
       "      <td>1</td>\n",
       "      <td>4</td>\n",
       "      <td>0</td>\n",
       "      <td>2</td>\n",
       "      <td>0</td>\n",
       "      <td>0</td>\n",
       "      <td>0</td>\n",
       "      <td>2</td>\n",
       "      <td>Bachelor's</td>\n",
       "      <td>22.0</td>\n",
       "      <td>Full-stack Developer</td>\n",
       "    </tr>\n",
       "    <tr>\n",
       "      <th>67119</th>\n",
       "      <td>0</td>\n",
       "      <td>1</td>\n",
       "      <td>1</td>\n",
       "      <td>1</td>\n",
       "      <td>0</td>\n",
       "      <td>2</td>\n",
       "      <td>2</td>\n",
       "      <td>10</td>\n",
       "      <td>0</td>\n",
       "      <td>1</td>\n",
       "      <td>1</td>\n",
       "      <td>2</td>\n",
       "      <td>3</td>\n",
       "      <td>2</td>\n",
       "      <td>Associate</td>\n",
       "      <td>5.0</td>\n",
       "      <td>Front-end Developer</td>\n",
       "    </tr>\n",
       "    <tr>\n",
       "      <th>67120</th>\n",
       "      <td>0</td>\n",
       "      <td>1</td>\n",
       "      <td>0</td>\n",
       "      <td>0</td>\n",
       "      <td>0</td>\n",
       "      <td>0</td>\n",
       "      <td>0</td>\n",
       "      <td>4</td>\n",
       "      <td>0</td>\n",
       "      <td>1</td>\n",
       "      <td>6</td>\n",
       "      <td>0</td>\n",
       "      <td>1</td>\n",
       "      <td>1</td>\n",
       "      <td>Bachelor's</td>\n",
       "      <td>12.0</td>\n",
       "      <td>Full-stack Developer</td>\n",
       "    </tr>\n",
       "  </tbody>\n",
       "</table>\n",
       "<p>64478 rows × 17 columns</p>\n",
       "</div>"
      ],
      "text/plain": [
       "       skills_group_0  skills_group_1  skills_group_10  skills_group_11  \\\n",
       "0                   1               0                0                0   \n",
       "1                   2               1                2                0   \n",
       "2                   2               1                0                0   \n",
       "3                   0               0                0                0   \n",
       "4                   1               1                0                0   \n",
       "...               ...             ...              ...              ...   \n",
       "67116               0               0                0                0   \n",
       "67117               0               1                2                0   \n",
       "67118               0               0                0                0   \n",
       "67119               0               1                1                1   \n",
       "67120               0               1                0                0   \n",
       "\n",
       "       skills_group_12  skills_group_13  skills_group_2  skills_group_3  \\\n",
       "0                    0                6               0               3   \n",
       "1                    1                0               1               0   \n",
       "2                    0                2               0               5   \n",
       "3                    0                6               0               7   \n",
       "4                    0                0               0               7   \n",
       "...                ...              ...             ...             ...   \n",
       "67116                1                0               4               2   \n",
       "67117                3                0               4               7   \n",
       "67118                0                0               1               4   \n",
       "67119                0                2               2              10   \n",
       "67120                0                0               0               4   \n",
       "\n",
       "       skills_group_4  skills_group_5  skills_group_6  skills_group_7  \\\n",
       "0                   0               1               1               1   \n",
       "1                   0               1               0               1   \n",
       "2                   0               2               1               0   \n",
       "3                   0               3               0               2   \n",
       "4                   0               3               1               3   \n",
       "...               ...             ...             ...             ...   \n",
       "67116               0               0               0               1   \n",
       "67117               0               1               6               0   \n",
       "67118               0               2               0               0   \n",
       "67119               0               1               1               2   \n",
       "67120               0               1               6               0   \n",
       "\n",
       "       skills_group_8  skills_group_9                  EdLevel  \\\n",
       "0                   0               4               Bachelor's   \n",
       "1                   0               3               Bachelor's   \n",
       "2                   2               1               Bachelor's   \n",
       "3                   0               2               Bachelor's   \n",
       "4                   0               3  Some College/University   \n",
       "...               ...             ...                      ...   \n",
       "67116               2               0               Bachelor's   \n",
       "67117              10               1                 Master's   \n",
       "67118               0               2               Bachelor's   \n",
       "67119               3               2                Associate   \n",
       "67120               1               1               Bachelor's   \n",
       "\n",
       "       experanse_years               DevType  \n",
       "0                  9.0             Executive  \n",
       "1                 23.0    Back-end Developer  \n",
       "2                  7.0   Front-end Developer  \n",
       "3                  4.0  Full-stack Developer  \n",
       "4                 21.0    Back-end Developer  \n",
       "...                ...                   ...  \n",
       "67116              8.0      Mobile Developer  \n",
       "67117             11.0  Full-stack Developer  \n",
       "67118             22.0  Full-stack Developer  \n",
       "67119              5.0   Front-end Developer  \n",
       "67120             12.0  Full-stack Developer  \n",
       "\n",
       "[64478 rows x 17 columns]"
      ]
     },
     "execution_count": 57,
     "metadata": {},
     "output_type": "execute_result"
    }
   ],
   "source": [
    "fe_clustered_skills"
   ]
  },
  {
   "cell_type": "markdown",
   "metadata": {},
   "source": [
    "---\n",
    "\n",
    "save data\n"
   ]
  },
  {
   "cell_type": "code",
   "execution_count": 59,
   "metadata": {},
   "outputs": [],
   "source": [
    "fe_clustered_skills.to_pickle(OUTPUT_DATA_PATH)"
   ]
  },
  {
   "cell_type": "code",
   "execution_count": null,
   "metadata": {},
   "outputs": [],
   "source": []
  }
 ],
 "metadata": {
  "kernelspec": {
   "display_name": "Python 3",
   "language": "python",
   "name": "python3"
  },
  "language_info": {
   "codemirror_mode": {
    "name": "ipython",
    "version": 3
   },
   "file_extension": ".py",
   "mimetype": "text/x-python",
   "name": "python",
   "nbconvert_exporter": "python",
   "pygments_lexer": "ipython3",
   "version": "3.10.8"
  }
 },
 "nbformat": 4,
 "nbformat_minor": 2
}
